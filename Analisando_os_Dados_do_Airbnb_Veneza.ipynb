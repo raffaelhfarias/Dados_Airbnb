{
  "nbformat": 4,
  "nbformat_minor": 0,
  "metadata": {
    "colab": {
      "provenance": [],
      "include_colab_link": true
    },
    "kernelspec": {
      "name": "python3",
      "display_name": "Python 3"
    }
  },
  "cells": [
    {
      "cell_type": "markdown",
      "metadata": {
        "id": "view-in-github",
        "colab_type": "text"
      },
      "source": [
        "<a href=\"https://colab.research.google.com/github/raffaelhfarias/Dados_Airbnb/blob/main/Analisando_os_Dados_do_Airbnb_Veneza.ipynb\" target=\"_parent\"><img src=\"https://colab.research.google.com/assets/colab-badge.svg\" alt=\"Open In Colab\"/></a>"
      ]
    },
    {
      "cell_type": "markdown",
      "metadata": {
        "id": "kLI0gJtzDGuQ"
      },
      "source": [
        "# Raffael Henrique\n",
        "links: [Linkedin](https://www.linkedin.com/in/raffael-henrique-59922520a/), [Github](https://github.com/raffaelhfarias).\n",
        "\n",
        "---\n",
        "\n",
        "# Análise dos Dados do Airbnb - *Veneza*\n",
        "\n",
        "O [Airbnb](https://www.airbnb.com.br/) já é considerado como sendo a **maior empresa hoteleira da atualidade**. Ah, o detalhe é que ele **não possui nenhum hotel**!\n",
        "\n",
        "Conectando pessoas que querem viajar (e se hospedar) com anfitriões que querem alugar seus imóveis de maneira prática, o Airbnb fornece uma plataforma inovadora para tornar essa hospedagem alternativa.\n",
        "\n",
        "No final de 2018, a Startup fundada 10 anos atrás, já havia **hospedado mais de 300 milhões** de pessoas ao redor de todo o mundo, desafiando as redes hoteleiras tradicionais.\n",
        "\n",
        "Uma das iniciativas do Airbnb é disponibilizar dados do site, para algumas das principais cidades do mundo. Por meio do portal [Inside Airbnb](http://insideairbnb.com/get-the-data.html), é possível baixar uma grande quantidade de dados para desenvolver projetos e soluções de *Data Science*.\n",
        "\n",
        "<center><img alt=\"Analisando Airbnb\" width=\"10%\" src=\"https://www.area360.com.au/wp-content/uploads/2017/09/airbnb-logo.jpg\"></center>\n",
        "\n",
        "**Neste *notebook*, iremos analisar os dados referentes à cidade de Veneza na Itália, e ver quais insights podem ser extraídos a partir de dados brutos.**"
      ]
    },
    {
      "cell_type": "markdown",
      "metadata": {
        "id": "0zxQHhIUDF_2"
      },
      "source": [
        "## Obtenção dos Dados\n"
      ]
    },
    {
      "cell_type": "code",
      "metadata": {
        "id": "Vhp2wMPgJ6zX"
      },
      "source": [
        "# importando os pacotes necessários\n",
        "import pandas as pd\n",
        "import matplotlib.pyplot as plt\n",
        "import seaborn as sns\n",
        "\n",
        "%matplotlib inline"
      ],
      "execution_count": null,
      "outputs": []
    },
    {
      "cell_type": "code",
      "metadata": {
        "id": "tUmoAT8DLQ5T"
      },
      "source": [
        "# importando o arquivo listings.csv para um DataFrame, lembrando que os dados se atualizam.\n",
        "df = pd.read_csv('http://data.insideairbnb.com/italy/veneto/venice/2022-09-07/visualisations/listings.csv')"
      ],
      "execution_count": null,
      "outputs": []
    },
    {
      "cell_type": "markdown",
      "metadata": {
        "id": "qb5By2nIMS6m"
      },
      "source": [
        "## Análise dos Dados\n"
      ]
    },
    {
      "cell_type": "markdown",
      "metadata": {
        "id": "RYgvuebKNg8-"
      },
      "source": [
        "**Dicionário das variáveis**\n",
        "\n",
        "* `id`: número de id gerado para identificar o imóvel\n",
        "* `name`:\tnome da propriedade anunciada\n",
        "* `host_id`: número de id do proprietário (anfitrião) da propriedade\n",
        "* `host_name`: Nome do anfitrião\n",
        "* `neighbourhood_group`: esta coluna não contém nenhum valor válido\n",
        "* `neighbourhood`: nome do bairro\n",
        "* `latitude`: coordenada da latitude da propriedade\n",
        "* `longitude`: coordenada da longitude da propriedade\n",
        "* `room_type`: informa o tipo de quarto que é oferecido\n",
        "* `price`: preço para alugar o imóvel\n",
        "* `minimum_nights`:\tquantidade mínima de noites para reservar\n",
        "* `number_of_reviews`: número de avalições que a propriedade possui\n",
        "* `last_review`: data da última avaliação\n",
        "* `reviews_per_month`:\tquantidade de avaliações por mês\n",
        "* `calculated_host_listings_count`:\tquantidade de imóveis do mesmo anfitrião\n",
        "* `availability_365`: número de dias de disponibilidade dentro de 365 dias\n",
        "* `number_of_reviews_ltm`:\tnúmero de avaliações nos últimos 12 meses\n",
        "* `license`: se o imóvel possui licensa\n",
        "\n",
        "Antes de iniciar qualquer análise, vamos verificar a cara do nosso *dataset*, analisando as 5 primeiras entradas."
      ]
    },
    {
      "cell_type": "code",
      "metadata": {
        "id": "2iS_dae7YQtO",
        "colab": {
          "base_uri": "https://localhost:8080/",
          "height": 600
        },
        "outputId": "c5069956-bace-40a0-ef07-dee23bd8013f"
      },
      "source": [
        "# mostrando as 5 primeiras entradas\n",
        "df.head()"
      ],
      "execution_count": null,
      "outputs": [
        {
          "output_type": "execute_result",
          "data": {
            "text/plain": [
              "      id                                             name  host_id  \\\n",
              "0   6623                   Venice Blue on Canal apartment    15016   \n",
              "1   6624             Venice garden charme and canal view!    15016   \n",
              "2  12074                Venice home to relax and emotions    15016   \n",
              "3  27116      Junior Suite with balcony overlooking canal   116144   \n",
              "4  44527  Historical Luxury Apartment on Calm Sunny Canal   120215   \n",
              "\n",
              "          host_name neighbourhood_group neighbourhood  latitude  longitude  \\\n",
              "0         Francesca               Isole      San Polo  45.43817   12.32739   \n",
              "1         Francesca               Isole   Santa Croce  45.43977   12.32736   \n",
              "2         Francesca               Isole      San Polo  45.43896   12.32970   \n",
              "3           Giò&Giò               Isole     San Marco  45.43277   12.33456   \n",
              "4  Marc & Elisabeth               Isole    Cannaregio  45.44569   12.32902   \n",
              "\n",
              "         room_type  price  minimum_nights  number_of_reviews last_review  \\\n",
              "0  Entire home/apt    250               5                175  2022-08-16   \n",
              "1  Entire home/apt    290               4                 75  2022-08-06   \n",
              "2  Entire home/apt    180               4                195  2022-07-11   \n",
              "3     Private room    250               1                416  2022-06-09   \n",
              "4  Entire home/apt    320               3                 96  2022-09-03   \n",
              "\n",
              "   reviews_per_month  calculated_host_listings_count  availability_365  \\\n",
              "0               1.12                               3               266   \n",
              "1               0.56                               3               316   \n",
              "2               1.29                               3               240   \n",
              "3               2.83                               2                70   \n",
              "4               0.69                               1               223   \n",
              "\n",
              "   number_of_reviews_ltm      license  \n",
              "0                     12          NaN  \n",
              "1                     11          NaN  \n",
              "2                     11          NaN  \n",
              "3                      5          NaN  \n",
              "4                     18  M0270422294  "
            ],
            "text/html": [
              "\n",
              "  <div id=\"df-a4c53308-f3ed-4410-98ac-7b460d0f0e19\">\n",
              "    <div class=\"colab-df-container\">\n",
              "      <div>\n",
              "<style scoped>\n",
              "    .dataframe tbody tr th:only-of-type {\n",
              "        vertical-align: middle;\n",
              "    }\n",
              "\n",
              "    .dataframe tbody tr th {\n",
              "        vertical-align: top;\n",
              "    }\n",
              "\n",
              "    .dataframe thead th {\n",
              "        text-align: right;\n",
              "    }\n",
              "</style>\n",
              "<table border=\"1\" class=\"dataframe\">\n",
              "  <thead>\n",
              "    <tr style=\"text-align: right;\">\n",
              "      <th></th>\n",
              "      <th>id</th>\n",
              "      <th>name</th>\n",
              "      <th>host_id</th>\n",
              "      <th>host_name</th>\n",
              "      <th>neighbourhood_group</th>\n",
              "      <th>neighbourhood</th>\n",
              "      <th>latitude</th>\n",
              "      <th>longitude</th>\n",
              "      <th>room_type</th>\n",
              "      <th>price</th>\n",
              "      <th>minimum_nights</th>\n",
              "      <th>number_of_reviews</th>\n",
              "      <th>last_review</th>\n",
              "      <th>reviews_per_month</th>\n",
              "      <th>calculated_host_listings_count</th>\n",
              "      <th>availability_365</th>\n",
              "      <th>number_of_reviews_ltm</th>\n",
              "      <th>license</th>\n",
              "    </tr>\n",
              "  </thead>\n",
              "  <tbody>\n",
              "    <tr>\n",
              "      <th>0</th>\n",
              "      <td>6623</td>\n",
              "      <td>Venice Blue on Canal apartment</td>\n",
              "      <td>15016</td>\n",
              "      <td>Francesca</td>\n",
              "      <td>Isole</td>\n",
              "      <td>San Polo</td>\n",
              "      <td>45.43817</td>\n",
              "      <td>12.32739</td>\n",
              "      <td>Entire home/apt</td>\n",
              "      <td>250</td>\n",
              "      <td>5</td>\n",
              "      <td>175</td>\n",
              "      <td>2022-08-16</td>\n",
              "      <td>1.12</td>\n",
              "      <td>3</td>\n",
              "      <td>266</td>\n",
              "      <td>12</td>\n",
              "      <td>NaN</td>\n",
              "    </tr>\n",
              "    <tr>\n",
              "      <th>1</th>\n",
              "      <td>6624</td>\n",
              "      <td>Venice garden charme and canal view!</td>\n",
              "      <td>15016</td>\n",
              "      <td>Francesca</td>\n",
              "      <td>Isole</td>\n",
              "      <td>Santa Croce</td>\n",
              "      <td>45.43977</td>\n",
              "      <td>12.32736</td>\n",
              "      <td>Entire home/apt</td>\n",
              "      <td>290</td>\n",
              "      <td>4</td>\n",
              "      <td>75</td>\n",
              "      <td>2022-08-06</td>\n",
              "      <td>0.56</td>\n",
              "      <td>3</td>\n",
              "      <td>316</td>\n",
              "      <td>11</td>\n",
              "      <td>NaN</td>\n",
              "    </tr>\n",
              "    <tr>\n",
              "      <th>2</th>\n",
              "      <td>12074</td>\n",
              "      <td>Venice home to relax and emotions</td>\n",
              "      <td>15016</td>\n",
              "      <td>Francesca</td>\n",
              "      <td>Isole</td>\n",
              "      <td>San Polo</td>\n",
              "      <td>45.43896</td>\n",
              "      <td>12.32970</td>\n",
              "      <td>Entire home/apt</td>\n",
              "      <td>180</td>\n",
              "      <td>4</td>\n",
              "      <td>195</td>\n",
              "      <td>2022-07-11</td>\n",
              "      <td>1.29</td>\n",
              "      <td>3</td>\n",
              "      <td>240</td>\n",
              "      <td>11</td>\n",
              "      <td>NaN</td>\n",
              "    </tr>\n",
              "    <tr>\n",
              "      <th>3</th>\n",
              "      <td>27116</td>\n",
              "      <td>Junior Suite with balcony overlooking canal</td>\n",
              "      <td>116144</td>\n",
              "      <td>Giò&amp;Giò</td>\n",
              "      <td>Isole</td>\n",
              "      <td>San Marco</td>\n",
              "      <td>45.43277</td>\n",
              "      <td>12.33456</td>\n",
              "      <td>Private room</td>\n",
              "      <td>250</td>\n",
              "      <td>1</td>\n",
              "      <td>416</td>\n",
              "      <td>2022-06-09</td>\n",
              "      <td>2.83</td>\n",
              "      <td>2</td>\n",
              "      <td>70</td>\n",
              "      <td>5</td>\n",
              "      <td>NaN</td>\n",
              "    </tr>\n",
              "    <tr>\n",
              "      <th>4</th>\n",
              "      <td>44527</td>\n",
              "      <td>Historical Luxury Apartment on Calm Sunny Canal</td>\n",
              "      <td>120215</td>\n",
              "      <td>Marc &amp; Elisabeth</td>\n",
              "      <td>Isole</td>\n",
              "      <td>Cannaregio</td>\n",
              "      <td>45.44569</td>\n",
              "      <td>12.32902</td>\n",
              "      <td>Entire home/apt</td>\n",
              "      <td>320</td>\n",
              "      <td>3</td>\n",
              "      <td>96</td>\n",
              "      <td>2022-09-03</td>\n",
              "      <td>0.69</td>\n",
              "      <td>1</td>\n",
              "      <td>223</td>\n",
              "      <td>18</td>\n",
              "      <td>M0270422294</td>\n",
              "    </tr>\n",
              "  </tbody>\n",
              "</table>\n",
              "</div>\n",
              "      <button class=\"colab-df-convert\" onclick=\"convertToInteractive('df-a4c53308-f3ed-4410-98ac-7b460d0f0e19')\"\n",
              "              title=\"Convert this dataframe to an interactive table.\"\n",
              "              style=\"display:none;\">\n",
              "        \n",
              "  <svg xmlns=\"http://www.w3.org/2000/svg\" height=\"24px\"viewBox=\"0 0 24 24\"\n",
              "       width=\"24px\">\n",
              "    <path d=\"M0 0h24v24H0V0z\" fill=\"none\"/>\n",
              "    <path d=\"M18.56 5.44l.94 2.06.94-2.06 2.06-.94-2.06-.94-.94-2.06-.94 2.06-2.06.94zm-11 1L8.5 8.5l.94-2.06 2.06-.94-2.06-.94L8.5 2.5l-.94 2.06-2.06.94zm10 10l.94 2.06.94-2.06 2.06-.94-2.06-.94-.94-2.06-.94 2.06-2.06.94z\"/><path d=\"M17.41 7.96l-1.37-1.37c-.4-.4-.92-.59-1.43-.59-.52 0-1.04.2-1.43.59L10.3 9.45l-7.72 7.72c-.78.78-.78 2.05 0 2.83L4 21.41c.39.39.9.59 1.41.59.51 0 1.02-.2 1.41-.59l7.78-7.78 2.81-2.81c.8-.78.8-2.07 0-2.86zM5.41 20L4 18.59l7.72-7.72 1.47 1.35L5.41 20z\"/>\n",
              "  </svg>\n",
              "      </button>\n",
              "      \n",
              "  <style>\n",
              "    .colab-df-container {\n",
              "      display:flex;\n",
              "      flex-wrap:wrap;\n",
              "      gap: 12px;\n",
              "    }\n",
              "\n",
              "    .colab-df-convert {\n",
              "      background-color: #E8F0FE;\n",
              "      border: none;\n",
              "      border-radius: 50%;\n",
              "      cursor: pointer;\n",
              "      display: none;\n",
              "      fill: #1967D2;\n",
              "      height: 32px;\n",
              "      padding: 0 0 0 0;\n",
              "      width: 32px;\n",
              "    }\n",
              "\n",
              "    .colab-df-convert:hover {\n",
              "      background-color: #E2EBFA;\n",
              "      box-shadow: 0px 1px 2px rgba(60, 64, 67, 0.3), 0px 1px 3px 1px rgba(60, 64, 67, 0.15);\n",
              "      fill: #174EA6;\n",
              "    }\n",
              "\n",
              "    [theme=dark] .colab-df-convert {\n",
              "      background-color: #3B4455;\n",
              "      fill: #D2E3FC;\n",
              "    }\n",
              "\n",
              "    [theme=dark] .colab-df-convert:hover {\n",
              "      background-color: #434B5C;\n",
              "      box-shadow: 0px 1px 3px 1px rgba(0, 0, 0, 0.15);\n",
              "      filter: drop-shadow(0px 1px 2px rgba(0, 0, 0, 0.3));\n",
              "      fill: #FFFFFF;\n",
              "    }\n",
              "  </style>\n",
              "\n",
              "      <script>\n",
              "        const buttonEl =\n",
              "          document.querySelector('#df-a4c53308-f3ed-4410-98ac-7b460d0f0e19 button.colab-df-convert');\n",
              "        buttonEl.style.display =\n",
              "          google.colab.kernel.accessAllowed ? 'block' : 'none';\n",
              "\n",
              "        async function convertToInteractive(key) {\n",
              "          const element = document.querySelector('#df-a4c53308-f3ed-4410-98ac-7b460d0f0e19');\n",
              "          const dataTable =\n",
              "            await google.colab.kernel.invokeFunction('convertToInteractive',\n",
              "                                                     [key], {});\n",
              "          if (!dataTable) return;\n",
              "\n",
              "          const docLinkHtml = 'Like what you see? Visit the ' +\n",
              "            '<a target=\"_blank\" href=https://colab.research.google.com/notebooks/data_table.ipynb>data table notebook</a>'\n",
              "            + ' to learn more about interactive tables.';\n",
              "          element.innerHTML = '';\n",
              "          dataTable['output_type'] = 'display_data';\n",
              "          await google.colab.output.renderOutput(dataTable, element);\n",
              "          const docLink = document.createElement('div');\n",
              "          docLink.innerHTML = docLinkHtml;\n",
              "          element.appendChild(docLink);\n",
              "        }\n",
              "      </script>\n",
              "    </div>\n",
              "  </div>\n",
              "  "
            ]
          },
          "metadata": {},
          "execution_count": 3
        }
      ]
    },
    {
      "cell_type": "markdown",
      "metadata": {
        "id": "6-B_qtEaYEd-"
      },
      "source": [
        "### **Quantos atributos (variáveis) e quantas entradas o nosso conjunto de dados possui? Quais os tipos das variáveis?**"
      ]
    },
    {
      "cell_type": "code",
      "metadata": {
        "id": "TFRK0tniLV-G",
        "colab": {
          "base_uri": "https://localhost:8080/"
        },
        "outputId": "2d3569b2-4678-481a-caf9-db823b27d390"
      },
      "source": [
        "# identificando o volume de dados do DataFrame\n",
        "print('Entradas:\\t {}'.format(df.shape[0]))\n",
        "print('Variáveis:\\t {}\\n'.format(df.shape[1]))\n",
        "\n",
        "# verificando os tipos dos dados do dataset\n",
        "df.dtypes"
      ],
      "execution_count": null,
      "outputs": [
        {
          "output_type": "stream",
          "name": "stdout",
          "text": [
            "Entradas:\t 7988\n",
            "Variáveis:\t 18\n",
            "\n"
          ]
        },
        {
          "output_type": "execute_result",
          "data": {
            "text/plain": [
              "id                                  int64\n",
              "name                               object\n",
              "host_id                             int64\n",
              "host_name                          object\n",
              "neighbourhood_group                object\n",
              "neighbourhood                      object\n",
              "latitude                          float64\n",
              "longitude                         float64\n",
              "room_type                          object\n",
              "price                               int64\n",
              "minimum_nights                      int64\n",
              "number_of_reviews                   int64\n",
              "last_review                        object\n",
              "reviews_per_month                 float64\n",
              "calculated_host_listings_count      int64\n",
              "availability_365                    int64\n",
              "number_of_reviews_ltm               int64\n",
              "license                            object\n",
              "dtype: object"
            ]
          },
          "metadata": {},
          "execution_count": 4
        }
      ]
    },
    {
      "cell_type": "markdown",
      "source": [
        "Vemos que a variável `last_review` está como object, por ser uma data e como eu considero datas um dado muito importante se tratando de análises, iremos transformar a variável em datetime utilizando o `pd.to_datetime`"
      ],
      "metadata": {
        "id": "7mLP_A45jRpp"
      }
    },
    {
      "cell_type": "code",
      "source": [
        "# Alterando o tipo da variável\n",
        "df['last_review'] = pd.to_datetime(df['last_review'], format='%Y-%m-%d')\n",
        "\n",
        "# Visualizando a alteração\n",
        "df.dtypes"
      ],
      "metadata": {
        "colab": {
          "base_uri": "https://localhost:8080/"
        },
        "id": "tIHrFxYpi6j4",
        "outputId": "04bbedf0-c1a2-4532-b1f3-310f959d3dd3"
      },
      "execution_count": null,
      "outputs": [
        {
          "output_type": "execute_result",
          "data": {
            "text/plain": [
              "id                                         int64\n",
              "name                                      object\n",
              "host_id                                    int64\n",
              "host_name                                 object\n",
              "neighbourhood_group                       object\n",
              "neighbourhood                             object\n",
              "latitude                                 float64\n",
              "longitude                                float64\n",
              "room_type                                 object\n",
              "price                                      int64\n",
              "minimum_nights                             int64\n",
              "number_of_reviews                          int64\n",
              "last_review                       datetime64[ns]\n",
              "reviews_per_month                        float64\n",
              "calculated_host_listings_count             int64\n",
              "availability_365                           int64\n",
              "number_of_reviews_ltm                      int64\n",
              "license                                   object\n",
              "dtype: object"
            ]
          },
          "metadata": {},
          "execution_count": 5
        }
      ]
    },
    {
      "cell_type": "markdown",
      "metadata": {
        "id": "yz1urSUGW9iE"
      },
      "source": [
        "### **Qual a porcentagem de valores ausentes no *dataset*?**"
      ]
    },
    {
      "cell_type": "code",
      "metadata": {
        "id": "plk2FjbCXOqP",
        "colab": {
          "base_uri": "https://localhost:8080/"
        },
        "outputId": "92f6b259-f744-463a-8ec9-daba1097f29d"
      },
      "source": [
        "# ordenando em ordem decrescente as variáveis por seus valores ausentes\n",
        "(df.isnull().sum() / df.shape[0]*100).sort_values(ascending=False)"
      ],
      "execution_count": null,
      "outputs": [
        {
          "output_type": "execute_result",
          "data": {
            "text/plain": [
              "license                           79.006009\n",
              "reviews_per_month                  9.989985\n",
              "last_review                        9.989985\n",
              "name                               0.000000\n",
              "number_of_reviews_ltm              0.000000\n",
              "availability_365                   0.000000\n",
              "calculated_host_listings_count     0.000000\n",
              "number_of_reviews                  0.000000\n",
              "minimum_nights                     0.000000\n",
              "id                                 0.000000\n",
              "room_type                          0.000000\n",
              "longitude                          0.000000\n",
              "latitude                           0.000000\n",
              "neighbourhood                      0.000000\n",
              "neighbourhood_group                0.000000\n",
              "host_name                          0.000000\n",
              "host_id                            0.000000\n",
              "price                              0.000000\n",
              "dtype: float64"
            ]
          },
          "metadata": {},
          "execution_count": 6
        }
      ]
    },
    {
      "cell_type": "markdown",
      "source": [
        "Para efeitos de análises as colunas que mais possuem valores em branco não interferem em qualquer linha de raciocínio. "
      ],
      "metadata": {
        "id": "6V0whN_7Djj3"
      }
    },
    {
      "cell_type": "markdown",
      "metadata": {
        "id": "iHXvvHIxaoNc"
      },
      "source": [
        "### **Qual o tipo de distribuição das variáveis?** "
      ]
    },
    {
      "cell_type": "code",
      "metadata": {
        "id": "q2wWSfeRbmBo",
        "colab": {
          "base_uri": "https://localhost:8080/",
          "height": 607
        },
        "outputId": "1dd48733-da9f-4f10-9a2d-632cf977cb2f"
      },
      "source": [
        "# plotando histograma das variáveis numéricas\n",
        "df.hist(bins=15, figsize=(15,10));"
      ],
      "execution_count": null,
      "outputs": [
        {
          "output_type": "display_data",
          "data": {
            "text/plain": [
              "<Figure size 1080x720 with 12 Axes>"
            ],
            "image/png": "[encoded data removed]"
          },
          "metadata": {
            "needs_background": "light"
          }
        }
      ]
    },
    {
      "cell_type": "markdown",
      "source": [
        "### **Verificando Outliers**"
      ],
      "metadata": {
        "id": "8phjN-4NJZD1"
      }
    },
    {
      "cell_type": "markdown",
      "source": [
        "Pela distribuição dos histogramas, é possível verificar indícios da presença de *outliers*. Olhe por exemplo as variáveis `price`, `minimum_nights`.\n",
        "\n",
        "> Os outliers são dados que se diferenciam drasticamente de todos os outros. Em outras palavras, um outlier é um valor que foge da normalidade e que pode (e provavelmente irá) causar anomalias nos resultados obtidos por meio de algoritmos e sistemas de análise.\n",
        "\n",
        "Há duas maneiras rápidas que auxiliam a detecção de *outliers*. São elas:\n",
        "\n",
        "* Resumo estatístico por meio do método `describe()`\n",
        "* Plotar `boxplots` para a variável."
      ],
      "metadata": {
        "id": "UjsdrlFtJ5K4"
      }
    },
    {
      "cell_type": "code",
      "source": [
        "# Aplicando o describe\n",
        "df[['price', 'minimum_nights', 'number_of_reviews', 'reviews_per_month',\n",
        "    'calculated_host_listings_count', 'availability_365']].describe()"
      ],
      "metadata": {
        "colab": {
          "base_uri": "https://localhost:8080/",
          "height": 300
        },
        "id": "pp23uiiiHTId",
        "outputId": "8dfa17a4-62e4-4a87-f81b-950f962bc382"
      },
      "execution_count": null,
      "outputs": [
        {
          "output_type": "execute_result",
          "data": {
            "text/plain": [
              "              price  minimum_nights  number_of_reviews  reviews_per_month  \\\n",
              "count   7988.000000     7988.000000        7988.000000        7190.000000   \n",
              "mean     268.780421        2.666375          70.130446           1.850384   \n",
              "std     1080.746953       13.732286          99.494762           4.781660   \n",
              "min        0.000000        1.000000           0.000000           0.010000   \n",
              "25%      100.000000        1.000000           6.000000           0.490000   \n",
              "50%      146.000000        2.000000          30.000000           1.240000   \n",
              "75%      229.000000        3.000000          95.000000           2.517500   \n",
              "max    21000.000000      999.000000         981.000000         326.420000   \n",
              "\n",
              "       calculated_host_listings_count  availability_365  \n",
              "count                     7988.000000       7988.000000  \n",
              "mean                         9.948172        197.939159  \n",
              "std                         19.122828        122.551494  \n",
              "min                          1.000000          0.000000  \n",
              "25%                          1.000000         76.000000  \n",
              "50%                          3.000000        237.000000  \n",
              "75%                          8.000000        308.000000  \n",
              "max                        113.000000        365.000000  "
            ],
            "text/html": [
              "\n",
              "  <div id=\"df-b328963c-5f02-4f57-aee3-076d1784b87c\">\n",
              "    <div class=\"colab-df-container\">\n",
              "      <div>\n",
              "<style scoped>\n",
              "    .dataframe tbody tr th:only-of-type {\n",
              "        vertical-align: middle;\n",
              "    }\n",
              "\n",
              "    .dataframe tbody tr th {\n",
              "        vertical-align: top;\n",
              "    }\n",
              "\n",
              "    .dataframe thead th {\n",
              "        text-align: right;\n",
              "    }\n",
              "</style>\n",
              "<table border=\"1\" class=\"dataframe\">\n",
              "  <thead>\n",
              "    <tr style=\"text-align: right;\">\n",
              "      <th></th>\n",
              "      <th>price</th>\n",
              "      <th>minimum_nights</th>\n",
              "      <th>number_of_reviews</th>\n",
              "      <th>reviews_per_month</th>\n",
              "      <th>calculated_host_listings_count</th>\n",
              "      <th>availability_365</th>\n",
              "    </tr>\n",
              "  </thead>\n",
              "  <tbody>\n",
              "    <tr>\n",
              "      <th>count</th>\n",
              "      <td>7988.000000</td>\n",
              "      <td>7988.000000</td>\n",
              "      <td>7988.000000</td>\n",
              "      <td>7190.000000</td>\n",
              "      <td>7988.000000</td>\n",
              "      <td>7988.000000</td>\n",
              "    </tr>\n",
              "    <tr>\n",
              "      <th>mean</th>\n",
              "      <td>268.780421</td>\n",
              "      <td>2.666375</td>\n",
              "      <td>70.130446</td>\n",
              "      <td>1.850384</td>\n",
              "      <td>9.948172</td>\n",
              "      <td>197.939159</td>\n",
              "    </tr>\n",
              "    <tr>\n",
              "      <th>std</th>\n",
              "      <td>1080.746953</td>\n",
              "      <td>13.732286</td>\n",
              "      <td>99.494762</td>\n",
              "      <td>4.781660</td>\n",
              "      <td>19.122828</td>\n",
              "      <td>122.551494</td>\n",
              "    </tr>\n",
              "    <tr>\n",
              "      <th>min</th>\n",
              "      <td>0.000000</td>\n",
              "      <td>1.000000</td>\n",
              "      <td>0.000000</td>\n",
              "      <td>0.010000</td>\n",
              "      <td>1.000000</td>\n",
              "      <td>0.000000</td>\n",
              "    </tr>\n",
              "    <tr>\n",
              "      <th>25%</th>\n",
              "      <td>100.000000</td>\n",
              "      <td>1.000000</td>\n",
              "      <td>6.000000</td>\n",
              "      <td>0.490000</td>\n",
              "      <td>1.000000</td>\n",
              "      <td>76.000000</td>\n",
              "    </tr>\n",
              "    <tr>\n",
              "      <th>50%</th>\n",
              "      <td>146.000000</td>\n",
              "      <td>2.000000</td>\n",
              "      <td>30.000000</td>\n",
              "      <td>1.240000</td>\n",
              "      <td>3.000000</td>\n",
              "      <td>237.000000</td>\n",
              "    </tr>\n",
              "    <tr>\n",
              "      <th>75%</th>\n",
              "      <td>229.000000</td>\n",
              "      <td>3.000000</td>\n",
              "      <td>95.000000</td>\n",
              "      <td>2.517500</td>\n",
              "      <td>8.000000</td>\n",
              "      <td>308.000000</td>\n",
              "    </tr>\n",
              "    <tr>\n",
              "      <th>max</th>\n",
              "      <td>21000.000000</td>\n",
              "      <td>999.000000</td>\n",
              "      <td>981.000000</td>\n",
              "      <td>326.420000</td>\n",
              "      <td>113.000000</td>\n",
              "      <td>365.000000</td>\n",
              "    </tr>\n",
              "  </tbody>\n",
              "</table>\n",
              "</div>\n",
              "      <button class=\"colab-df-convert\" onclick=\"convertToInteractive('df-b328963c-5f02-4f57-aee3-076d1784b87c')\"\n",
              "              title=\"Convert this dataframe to an interactive table.\"\n",
              "              style=\"display:none;\">\n",
              "        \n",
              "  <svg xmlns=\"http://www.w3.org/2000/svg\" height=\"24px\"viewBox=\"0 0 24 24\"\n",
              "       width=\"24px\">\n",
              "    <path d=\"M0 0h24v24H0V0z\" fill=\"none\"/>\n",
              "    <path d=\"M18.56 5.44l.94 2.06.94-2.06 2.06-.94-2.06-.94-.94-2.06-.94 2.06-2.06.94zm-11 1L8.5 8.5l.94-2.06 2.06-.94-2.06-.94L8.5 2.5l-.94 2.06-2.06.94zm10 10l.94 2.06.94-2.06 2.06-.94-2.06-.94-.94-2.06-.94 2.06-2.06.94z\"/><path d=\"M17.41 7.96l-1.37-1.37c-.4-.4-.92-.59-1.43-.59-.52 0-1.04.2-1.43.59L10.3 9.45l-7.72 7.72c-.78.78-.78 2.05 0 2.83L4 21.41c.39.39.9.59 1.41.59.51 0 1.02-.2 1.41-.59l7.78-7.78 2.81-2.81c.8-.78.8-2.07 0-2.86zM5.41 20L4 18.59l7.72-7.72 1.47 1.35L5.41 20z\"/>\n",
              "  </svg>\n",
              "      </button>\n",
              "      \n",
              "  <style>\n",
              "    .colab-df-container {\n",
              "      display:flex;\n",
              "      flex-wrap:wrap;\n",
              "      gap: 12px;\n",
              "    }\n",
              "\n",
              "    .colab-df-convert {\n",
              "      background-color: #E8F0FE;\n",
              "      border: none;\n",
              "      border-radius: 50%;\n",
              "      cursor: pointer;\n",
              "      display: none;\n",
              "      fill: #1967D2;\n",
              "      height: 32px;\n",
              "      padding: 0 0 0 0;\n",
              "      width: 32px;\n",
              "    }\n",
              "\n",
              "    .colab-df-convert:hover {\n",
              "      background-color: #E2EBFA;\n",
              "      box-shadow: 0px 1px 2px rgba(60, 64, 67, 0.3), 0px 1px 3px 1px rgba(60, 64, 67, 0.15);\n",
              "      fill: #174EA6;\n",
              "    }\n",
              "\n",
              "    [theme=dark] .colab-df-convert {\n",
              "      background-color: #3B4455;\n",
              "      fill: #D2E3FC;\n",
              "    }\n",
              "\n",
              "    [theme=dark] .colab-df-convert:hover {\n",
              "      background-color: #434B5C;\n",
              "      box-shadow: 0px 1px 3px 1px rgba(0, 0, 0, 0.15);\n",
              "      filter: drop-shadow(0px 1px 2px rgba(0, 0, 0, 0.3));\n",
              "      fill: #FFFFFF;\n",
              "    }\n",
              "  </style>\n",
              "\n",
              "      <script>\n",
              "        const buttonEl =\n",
              "          document.querySelector('#df-b328963c-5f02-4f57-aee3-076d1784b87c button.colab-df-convert');\n",
              "        buttonEl.style.display =\n",
              "          google.colab.kernel.accessAllowed ? 'block' : 'none';\n",
              "\n",
              "        async function convertToInteractive(key) {\n",
              "          const element = document.querySelector('#df-b328963c-5f02-4f57-aee3-076d1784b87c');\n",
              "          const dataTable =\n",
              "            await google.colab.kernel.invokeFunction('convertToInteractive',\n",
              "                                                     [key], {});\n",
              "          if (!dataTable) return;\n",
              "\n",
              "          const docLinkHtml = 'Like what you see? Visit the ' +\n",
              "            '<a target=\"_blank\" href=https://colab.research.google.com/notebooks/data_table.ipynb>data table notebook</a>'\n",
              "            + ' to learn more about interactive tables.';\n",
              "          element.innerHTML = '';\n",
              "          dataTable['output_type'] = 'display_data';\n",
              "          await google.colab.output.renderOutput(dataTable, element);\n",
              "          const docLink = document.createElement('div');\n",
              "          docLink.innerHTML = docLinkHtml;\n",
              "          element.appendChild(docLink);\n",
              "        }\n",
              "      </script>\n",
              "    </div>\n",
              "  </div>\n",
              "  "
            ]
          },
          "metadata": {},
          "execution_count": 8
        }
      ]
    },
    {
      "cell_type": "markdown",
      "source": [
        "Verificando as informações acima temos dois questionamentos:\n",
        "\n",
        "*   A variável `price` possui 75% do valor até 229, mas o valor máximo é 21000 acredito que seja um desvio considerável.\n",
        "*   A quantidade mínima de noites(`minimum_nights`) o valor máximo está maior que 365 dias.\n",
        "\n",
        "#### Boxplot para `minimum_nights`\n",
        "\n",
        "O gráfico Boxplot é, normalmente, utilizado para visualizar ou identificar se há presença de outliers nos dados.\n"
      ],
      "metadata": {
        "id": "Y0xVCztwH4HW"
      }
    },
    {
      "cell_type": "code",
      "source": [
        "# Plotando o boxplot\n",
        "df['minimum_nights'].plot(kind='box', vert=False, figsize=(15, 3))\n",
        "plt.show()\n",
        "\n",
        "# Verificando a quantidade de valores acima de 30 dias para minimum_nights\n",
        "print(\"minimum_nights: valores acima de 30:\")\n",
        "print(\"{} entradas\".format(len(df[df.minimum_nights > 30])))\n",
        "print(\"{:.4f}%\".format((len(df[df.minimum_nights > 30]) / df.shape[0])*100))"
      ],
      "metadata": {
        "colab": {
          "base_uri": "https://localhost:8080/",
          "height": 263
        },
        "id": "lLzA1vJiK-hl",
        "outputId": "cb6f3e40-9216-4008-e440-794e784f5fd7"
      },
      "execution_count": null,
      "outputs": [
        {
          "output_type": "display_data",
          "data": {
            "text/plain": [
              "<Figure size 1080x216 with 1 Axes>"
            ],
            "image/png": "[encoded data removed]"
          },
          "metadata": {
            "needs_background": "light"
          }
        },
        {
          "output_type": "stream",
          "name": "stdout",
          "text": [
            "minimum_nights: valores acima de 30:\n",
            "15 entradas\n",
            "0.1878%\n"
          ]
        }
      ]
    },
    {
      "cell_type": "markdown",
      "source": [
        "#### Boxplot para price\n",
        "\n",
        "**Porque estou utilizando o valor 268?** \n",
        "\n",
        "Como não tenho conhecimento de absolutamente nada sobre valores lá em Veneza na Itália kkk, peguei o valor médio da variável `price`."
      ],
      "metadata": {
        "id": "a6lHcEqDLb4O"
      }
    },
    {
      "cell_type": "code",
      "source": [
        "# Plotando o boxplot\n",
        "df['price'].plot(kind='box', vert=False, figsize=(15, 3))\n",
        "plt.show()\n",
        "\n",
        "# Verificando a quantidade de valores acima de 268 dias para price\n",
        "print(\"\\nprice: valores acima de 268:\")\n",
        "print(\"{} entradas\".format(len(df[df.minimum_nights > 268])))\n",
        "print(\"{:.4f}%\".format((len(df[df.minimum_nights > 268]) / df.shape[0])*100))"
      ],
      "metadata": {
        "colab": {
          "base_uri": "https://localhost:8080/",
          "height": 280
        },
        "id": "Ck-aDzsOLhBv",
        "outputId": "ea359eb6-4705-4893-f6cb-d123f6cf51d4"
      },
      "execution_count": null,
      "outputs": [
        {
          "output_type": "display_data",
          "data": {
            "text/plain": [
              "<Figure size 1080x216 with 1 Axes>"
            ],
            "image/png": "[encoded data removed]"
          },
          "metadata": {
            "needs_background": "light"
          }
        },
        {
          "output_type": "stream",
          "name": "stdout",
          "text": [
            "\n",
            "price: valores acima de 268:\n",
            "4 entradas\n",
            "0.0501%\n"
          ]
        }
      ]
    },
    {
      "cell_type": "markdown",
      "source": [
        "#### Histogramas sem *outliers*\n",
        "\n",
        "Já que identificamos *outliers* nas variáveis `price` e `minimum_nights`, vamos agora limpar o *DataFrame* delas e plotar novamente o histograma."
      ],
      "metadata": {
        "id": "KncwreApMTNN"
      }
    },
    {
      "cell_type": "code",
      "source": [
        "# removendo os *outliers* em um novo DataFrame\n",
        "df_clean = df.copy()\n",
        "df_clean.drop(df_clean[df_clean['price'] > 268].index, axis=0, inplace=True)\n",
        "df_clean.drop(df_clean[df_clean['minimum_nights'] > 30].index, axis=0, inplace=True)\n",
        "\n",
        "# plotando o histograma para as variáveis numéricas\n",
        "df_clean.hist(bins=15, figsize=(15,10));"
      ],
      "metadata": {
        "colab": {
          "base_uri": "https://localhost:8080/",
          "height": 607
        },
        "id": "09YLNLrfMYhF",
        "outputId": "7001ea88-0eca-4920-c2cb-0009ef80b7ed"
      },
      "execution_count": null,
      "outputs": [
        {
          "output_type": "display_data",
          "data": {
            "text/plain": [
              "<Figure size 1080x720 with 12 Axes>"
            ],
            "image/png": "[encoded data removed]"
          },
          "metadata": {
            "needs_background": "light"
          }
        }
      ]
    },
    {
      "cell_type": "markdown",
      "source": [
        "Já conseguimos ver algo mais analisável nos gráficos de histograma das variáveis `price` e `minimum_nights`."
      ],
      "metadata": {
        "id": "e7yp8GJIaSPd"
      }
    },
    {
      "cell_type": "markdown",
      "metadata": {
        "id": "7x4aw1j5wNmn"
      },
      "source": [
        "### **Qual a média dos preços de aluguel?**"
      ]
    },
    {
      "cell_type": "code",
      "metadata": {
        "id": "ff-8gUahLk-C",
        "colab": {
          "base_uri": "https://localhost:8080/"
        },
        "outputId": "5e706067-e830-4204-bddb-66ed37fe6cc9"
      },
      "source": [
        "# vendo a média da coluna `price`\n",
        "df['price'].mean()"
      ],
      "execution_count": null,
      "outputs": [
        {
          "output_type": "execute_result",
          "data": {
            "text/plain": [
              "268.7804206309464"
            ]
          },
          "metadata": {},
          "execution_count": 12
        }
      ]
    },
    {
      "cell_type": "markdown",
      "metadata": {
        "id": "IXn2oIo5qx-w"
      },
      "source": [
        "### **Qual a correlação existente entre as variáveis?**"
      ]
    },
    {
      "cell_type": "code",
      "metadata": {
        "id": "x2ayzBajqxyd",
        "colab": {
          "base_uri": "https://localhost:8080/",
          "height": 238
        },
        "outputId": "0a770624-d030-4db6-e8c1-adbce6ad5159"
      },
      "source": [
        "# criando uma matriz de correlação\n",
        "corr = df[['price', 'minimum_nights', 'number_of_reviews', 'reviews_per_month',\n",
        "    'calculated_host_listings_count', 'availability_365']].corr()\n",
        "# mostrando a matriz de correlação\n",
        "display(corr)"
      ],
      "execution_count": null,
      "outputs": [
        {
          "output_type": "display_data",
          "data": {
            "text/plain": [
              "                                   price  minimum_nights  number_of_reviews  \\\n",
              "price                           1.000000       -0.007411          -0.074642   \n",
              "minimum_nights                 -0.007411        1.000000          -0.014808   \n",
              "number_of_reviews              -0.074642       -0.014808           1.000000   \n",
              "reviews_per_month              -0.034127       -0.012145           0.296010   \n",
              "calculated_host_listings_count  0.127898       -0.025321          -0.155901   \n",
              "availability_365                0.092112        0.008312          -0.020956   \n",
              "\n",
              "                                reviews_per_month  \\\n",
              "price                                   -0.034127   \n",
              "minimum_nights                          -0.012145   \n",
              "number_of_reviews                        0.296010   \n",
              "reviews_per_month                        1.000000   \n",
              "calculated_host_listings_count          -0.050995   \n",
              "availability_365                        -0.006563   \n",
              "\n",
              "                                calculated_host_listings_count  \\\n",
              "price                                                 0.127898   \n",
              "minimum_nights                                       -0.025321   \n",
              "number_of_reviews                                    -0.155901   \n",
              "reviews_per_month                                    -0.050995   \n",
              "calculated_host_listings_count                        1.000000   \n",
              "availability_365                                      0.166828   \n",
              "\n",
              "                                availability_365  \n",
              "price                                   0.092112  \n",
              "minimum_nights                          0.008312  \n",
              "number_of_reviews                      -0.020956  \n",
              "reviews_per_month                      -0.006563  \n",
              "calculated_host_listings_count          0.166828  \n",
              "availability_365                        1.000000  "
            ],
            "text/html": [
              "\n",
              "  <div id=\"df-7852d2e1-1025-4038-964a-c1418f965af6\">\n",
              "    <div class=\"colab-df-container\">\n",
              "      <div>\n",
              "<style scoped>\n",
              "    .dataframe tbody tr th:only-of-type {\n",
              "        vertical-align: middle;\n",
              "    }\n",
              "\n",
              "    .dataframe tbody tr th {\n",
              "        vertical-align: top;\n",
              "    }\n",
              "\n",
              "    .dataframe thead th {\n",
              "        text-align: right;\n",
              "    }\n",
              "</style>\n",
              "<table border=\"1\" class=\"dataframe\">\n",
              "  <thead>\n",
              "    <tr style=\"text-align: right;\">\n",
              "      <th></th>\n",
              "      <th>price</th>\n",
              "      <th>minimum_nights</th>\n",
              "      <th>number_of_reviews</th>\n",
              "      <th>reviews_per_month</th>\n",
              "      <th>calculated_host_listings_count</th>\n",
              "      <th>availability_365</th>\n",
              "    </tr>\n",
              "  </thead>\n",
              "  <tbody>\n",
              "    <tr>\n",
              "      <th>price</th>\n",
              "      <td>1.000000</td>\n",
              "      <td>-0.007411</td>\n",
              "      <td>-0.074642</td>\n",
              "      <td>-0.034127</td>\n",
              "      <td>0.127898</td>\n",
              "      <td>0.092112</td>\n",
              "    </tr>\n",
              "    <tr>\n",
              "      <th>minimum_nights</th>\n",
              "      <td>-0.007411</td>\n",
              "      <td>1.000000</td>\n",
              "      <td>-0.014808</td>\n",
              "      <td>-0.012145</td>\n",
              "      <td>-0.025321</td>\n",
              "      <td>0.008312</td>\n",
              "    </tr>\n",
              "    <tr>\n",
              "      <th>number_of_reviews</th>\n",
              "      <td>-0.074642</td>\n",
              "      <td>-0.014808</td>\n",
              "      <td>1.000000</td>\n",
              "      <td>0.296010</td>\n",
              "      <td>-0.155901</td>\n",
              "      <td>-0.020956</td>\n",
              "    </tr>\n",
              "    <tr>\n",
              "      <th>reviews_per_month</th>\n",
              "      <td>-0.034127</td>\n",
              "      <td>-0.012145</td>\n",
              "      <td>0.296010</td>\n",
              "      <td>1.000000</td>\n",
              "      <td>-0.050995</td>\n",
              "      <td>-0.006563</td>\n",
              "    </tr>\n",
              "    <tr>\n",
              "      <th>calculated_host_listings_count</th>\n",
              "      <td>0.127898</td>\n",
              "      <td>-0.025321</td>\n",
              "      <td>-0.155901</td>\n",
              "      <td>-0.050995</td>\n",
              "      <td>1.000000</td>\n",
              "      <td>0.166828</td>\n",
              "    </tr>\n",
              "    <tr>\n",
              "      <th>availability_365</th>\n",
              "      <td>0.092112</td>\n",
              "      <td>0.008312</td>\n",
              "      <td>-0.020956</td>\n",
              "      <td>-0.006563</td>\n",
              "      <td>0.166828</td>\n",
              "      <td>1.000000</td>\n",
              "    </tr>\n",
              "  </tbody>\n",
              "</table>\n",
              "</div>\n",
              "      <button class=\"colab-df-convert\" onclick=\"convertToInteractive('df-7852d2e1-1025-4038-964a-c1418f965af6')\"\n",
              "              title=\"Convert this dataframe to an interactive table.\"\n",
              "              style=\"display:none;\">\n",
              "        \n",
              "  <svg xmlns=\"http://www.w3.org/2000/svg\" height=\"24px\"viewBox=\"0 0 24 24\"\n",
              "       width=\"24px\">\n",
              "    <path d=\"M0 0h24v24H0V0z\" fill=\"none\"/>\n",
              "    <path d=\"M18.56 5.44l.94 2.06.94-2.06 2.06-.94-2.06-.94-.94-2.06-.94 2.06-2.06.94zm-11 1L8.5 8.5l.94-2.06 2.06-.94-2.06-.94L8.5 2.5l-.94 2.06-2.06.94zm10 10l.94 2.06.94-2.06 2.06-.94-2.06-.94-.94-2.06-.94 2.06-2.06.94z\"/><path d=\"M17.41 7.96l-1.37-1.37c-.4-.4-.92-.59-1.43-.59-.52 0-1.04.2-1.43.59L10.3 9.45l-7.72 7.72c-.78.78-.78 2.05 0 2.83L4 21.41c.39.39.9.59 1.41.59.51 0 1.02-.2 1.41-.59l7.78-7.78 2.81-2.81c.8-.78.8-2.07 0-2.86zM5.41 20L4 18.59l7.72-7.72 1.47 1.35L5.41 20z\"/>\n",
              "  </svg>\n",
              "      </button>\n",
              "      \n",
              "  <style>\n",
              "    .colab-df-container {\n",
              "      display:flex;\n",
              "      flex-wrap:wrap;\n",
              "      gap: 12px;\n",
              "    }\n",
              "\n",
              "    .colab-df-convert {\n",
              "      background-color: #E8F0FE;\n",
              "      border: none;\n",
              "      border-radius: 50%;\n",
              "      cursor: pointer;\n",
              "      display: none;\n",
              "      fill: #1967D2;\n",
              "      height: 32px;\n",
              "      padding: 0 0 0 0;\n",
              "      width: 32px;\n",
              "    }\n",
              "\n",
              "    .colab-df-convert:hover {\n",
              "      background-color: #E2EBFA;\n",
              "      box-shadow: 0px 1px 2px rgba(60, 64, 67, 0.3), 0px 1px 3px 1px rgba(60, 64, 67, 0.15);\n",
              "      fill: #174EA6;\n",
              "    }\n",
              "\n",
              "    [theme=dark] .colab-df-convert {\n",
              "      background-color: #3B4455;\n",
              "      fill: #D2E3FC;\n",
              "    }\n",
              "\n",
              "    [theme=dark] .colab-df-convert:hover {\n",
              "      background-color: #434B5C;\n",
              "      box-shadow: 0px 1px 3px 1px rgba(0, 0, 0, 0.15);\n",
              "      filter: drop-shadow(0px 1px 2px rgba(0, 0, 0, 0.3));\n",
              "      fill: #FFFFFF;\n",
              "    }\n",
              "  </style>\n",
              "\n",
              "      <script>\n",
              "        const buttonEl =\n",
              "          document.querySelector('#df-7852d2e1-1025-4038-964a-c1418f965af6 button.colab-df-convert');\n",
              "        buttonEl.style.display =\n",
              "          google.colab.kernel.accessAllowed ? 'block' : 'none';\n",
              "\n",
              "        async function convertToInteractive(key) {\n",
              "          const element = document.querySelector('#df-7852d2e1-1025-4038-964a-c1418f965af6');\n",
              "          const dataTable =\n",
              "            await google.colab.kernel.invokeFunction('convertToInteractive',\n",
              "                                                     [key], {});\n",
              "          if (!dataTable) return;\n",
              "\n",
              "          const docLinkHtml = 'Like what you see? Visit the ' +\n",
              "            '<a target=\"_blank\" href=https://colab.research.google.com/notebooks/data_table.ipynb>data table notebook</a>'\n",
              "            + ' to learn more about interactive tables.';\n",
              "          element.innerHTML = '';\n",
              "          dataTable['output_type'] = 'display_data';\n",
              "          await google.colab.output.renderOutput(dataTable, element);\n",
              "          const docLink = document.createElement('div');\n",
              "          docLink.innerHTML = docLinkHtml;\n",
              "          element.appendChild(docLink);\n",
              "        }\n",
              "      </script>\n",
              "    </div>\n",
              "  </div>\n",
              "  "
            ]
          },
          "metadata": {}
        }
      ]
    },
    {
      "cell_type": "code",
      "metadata": {
        "id": "91UujDr6ueqE",
        "colab": {
          "base_uri": "https://localhost:8080/",
          "height": 411
        },
        "outputId": "c8d67816-25a2-47cf-cf3d-7769b7e4eb7f"
      },
      "source": [
        "# plotando um heatmap a partir das correlações\n",
        "sns.heatmap(corr, cmap='RdBu', fmt='.2f', square=True, linecolor='white', annot=True);"
      ],
      "execution_count": null,
      "outputs": [
        {
          "output_type": "display_data",
          "data": {
            "text/plain": [
              "<Figure size 432x288 with 2 Axes>"
            ],
            "image/png": "[encoded data removed]"
          },
          "metadata": {
            "needs_background": "light"
          }
        }
      ]
    },
    {
      "cell_type": "markdown",
      "source": [
        "A efeito de análise/estudo não existem correlações nas variáveis testadas."
      ],
      "metadata": {
        "id": "9bgxWNQAblsv"
      }
    },
    {
      "cell_type": "markdown",
      "metadata": {
        "id": "7b6RMWpuHKN-"
      },
      "source": [
        "### **Qual o tipo de imóvel mais alugado no Airbnb?**"
      ]
    },
    {
      "cell_type": "code",
      "metadata": {
        "id": "ueLPNWvPHgfB",
        "colab": {
          "base_uri": "https://localhost:8080/"
        },
        "outputId": "4f483669-4c22-4cf2-85ac-84d35c09acca"
      },
      "source": [
        "# mostrando a quantidade de cada tipo de imóvel disponível\n",
        "df['room_type'].value_counts()"
      ],
      "execution_count": null,
      "outputs": [
        {
          "output_type": "execute_result",
          "data": {
            "text/plain": [
              "Entire home/apt    6182\n",
              "Private room       1585\n",
              "Hotel room          194\n",
              "Shared room          27\n",
              "Name: room_type, dtype: int64"
            ]
          },
          "metadata": {},
          "execution_count": 15
        }
      ]
    },
    {
      "cell_type": "code",
      "metadata": {
        "id": "EvwoO-XAHhIm",
        "colab": {
          "base_uri": "https://localhost:8080/"
        },
        "outputId": "4a3ea452-7241-4f71-a445-1c6ddcf86725"
      },
      "source": [
        "# mostrando a porcentagem de cada tipo de imóvel disponível\n",
        "df['room_type'].value_counts() / df.shape[0]*100"
      ],
      "execution_count": null,
      "outputs": [
        {
          "output_type": "execute_result",
          "data": {
            "text/plain": [
              "Entire home/apt    77.391087\n",
              "Private room       19.842263\n",
              "Hotel room          2.428643\n",
              "Shared room         0.338007\n",
              "Name: room_type, dtype: float64"
            ]
          },
          "metadata": {},
          "execution_count": 16
        }
      ]
    },
    {
      "cell_type": "markdown",
      "metadata": {
        "id": "MFa5NbnLJMcd"
      },
      "source": [
        "### **Qual a localidade mais cara do dataset?**\n",
        "\n"
      ]
    },
    {
      "cell_type": "code",
      "metadata": {
        "id": "MD_xa143JZpi",
        "colab": {
          "base_uri": "https://localhost:8080/"
        },
        "outputId": "7a517cc1-d846-4c9d-ae1b-a3af4c1d2aa5"
      },
      "source": [
        "# verificando os preços por bairros, na média\n",
        "df.groupby(['neighbourhood'])['price'].mean().sort_values(ascending=False)[:15]"
      ],
      "execution_count": null,
      "outputs": [
        {
          "output_type": "execute_result",
          "data": {
            "text/plain": [
              "neighbourhood\n",
              "Isola Cason Grassabo'          21000.000000\n",
              "Tronchetto                      2569.500000\n",
              "Zona Commerciale via Torino     1972.294118\n",
              "Piave 1860                       989.763889\n",
              "Capitello                        875.000000\n",
              "Ferrarese                        450.000000\n",
              "Favaro                           351.627907\n",
              "Vignole                          330.000000\n",
              "San Marco                        290.619348\n",
              "Alberoni                         250.169811\n",
              "Torcello                         250.000000\n",
              "Lido                             248.081325\n",
              "Santa Croce                      239.703704\n",
              "San Polo                         236.300687\n",
              "Dorsoduro                        234.701571\n",
              "Name: price, dtype: float64"
            ]
          },
          "metadata": {},
          "execution_count": 17
        }
      ]
    },
    {
      "cell_type": "markdown",
      "source": [
        "Apesar de não ter conhecimento com a localidade de Veneza na Italia achei muito estranho o fato da média de preço ser 268, mas exatamente em um local o valor por noite ser 21000, possa ter sido algum erro de digitação, não podemos dizer ao certo o motivo desse valor, mas não podemos considera-lo como algo verídico."
      ],
      "metadata": {
        "id": "kmn-PWHJdmOE"
      }
    },
    {
      "cell_type": "code",
      "source": [
        "df['neighbourhood'].value_counts().sort_values()[:20]"
      ],
      "metadata": {
        "colab": {
          "base_uri": "https://localhost:8080/"
        },
        "id": "cx0bgGsjcgGR",
        "outputId": "08a7ab02-4265-4600-d90d-6ee095c6688d"
      },
      "execution_count": null,
      "outputs": [
        {
          "output_type": "execute_result",
          "data": {
            "text/plain": [
              "Vignole                             1\n",
              "San Pietro in Volta                 1\n",
              "Favaro Col San Martino              1\n",
              "Isola San Michele                   1\n",
              "Marocco Zelarino                    1\n",
              "Torcello                            1\n",
              "Mazzorbo                            1\n",
              "Molino Ronchin                      1\n",
              "Ca' Brentelle                       1\n",
              "Isola di Tessera                    1\n",
              "Ca' Solaro                          1\n",
              "Giustizia                           1\n",
              "Centro Commerciale Panorama         1\n",
              "Maguolo                             1\n",
              "Isola Cason Grassabo'               1\n",
              "Isola San Giorgio                   1\n",
              "Asseggiano                          2\n",
              "Isola Cason vecchio di Grassabo'    2\n",
              "Capitello                           2\n",
              "Campalto CEP                        2\n",
              "Name: neighbourhood, dtype: int64"
            ]
          },
          "metadata": {},
          "execution_count": 18
        }
      ]
    },
    {
      "cell_type": "code",
      "metadata": {
        "id": "UxVJqJ_3W59I",
        "colab": {
          "base_uri": "https://localhost:8080/",
          "height": 472
        },
        "outputId": "5811dd6d-9b99-4ad9-b8b9-98457a5eab62"
      },
      "source": [
        "# plotando os imóveis pela latitude-longitude\n",
        "df_clean.plot(kind=\"scatter\", x='longitude', y='latitude', alpha=0.4, c=df_clean['price'], s=8,\n",
        "              cmap=plt.get_cmap('jet'), figsize=(12,8));"
      ],
      "execution_count": null,
      "outputs": [
        {
          "output_type": "display_data",
          "data": {
            "text/plain": [
              "<Figure size 864x576 with 2 Axes>"
            ],
            "image/png": "[encoded data removed]"
          },
          "metadata": {
            "needs_background": "light"
          }
        }
      ]
    },
    {
      "cell_type": "markdown",
      "metadata": {
        "id": "vTneAMRUYvr1"
      },
      "source": [
        "### **Qual é a média do mínimo de noites para aluguel (minimum_nights)?**"
      ]
    },
    {
      "cell_type": "code",
      "metadata": {
        "id": "_VzNhrEgY82N",
        "colab": {
          "base_uri": "https://localhost:8080/"
        },
        "outputId": "5130bdbf-cf06-4cac-fc5e-f9483850ba26"
      },
      "source": [
        "# ver a média da coluna `minimum_nights``\n",
        "df['minimum_nights'].mean()"
      ],
      "execution_count": null,
      "outputs": [
        {
          "output_type": "execute_result",
          "data": {
            "text/plain": [
              "2.666374561842764"
            ]
          },
          "metadata": {},
          "execution_count": 20
        }
      ]
    },
    {
      "cell_type": "markdown",
      "metadata": {
        "id": "GkvAg623RjoR"
      },
      "source": [
        "## Conclusões\n"
      ]
    },
    {
      "cell_type": "markdown",
      "metadata": {
        "id": "rbZ3Hsy9Ypw8"
      },
      "source": [
        "Apesar de ter sido uma análise rápida sobre as variáveis `price`, `minimun_nights`, conseguimos identificar e tratar alguns erros nos dados, como por exemplo: *Data, Outliers, Dados Faltantes*, utilizamos alguns gráficos para verificar os dados como: *histograma, boxplot, scatter*.\n",
        "\n",
        "Há uma grande concentração de valores mais altos no centro de Veneza por conta das pontes que cruzam as regiões da cidade e os passeios de gôndolas, tradicionais especialmente para os casais apaixonados, encantam as pessoas e só fazem o desejo de viajar para Veneza aumentar, o que faz a atmosfera da cidade ser mágica."
      ]
    }
  ]
}