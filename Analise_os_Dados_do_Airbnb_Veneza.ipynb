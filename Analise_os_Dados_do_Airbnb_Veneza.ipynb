{
  "nbformat": 4,
  "nbformat_minor": 0,
  "metadata": {
    "colab": {
      "provenance": [],
      "toc_visible": true,
      "include_colab_link": true
    },
    "kernelspec": {
      "name": "python3",
      "display_name": "Python 3"
    }
  },
  "cells": [
    {
      "cell_type": "markdown",
      "metadata": {
        "id": "view-in-github",
        "colab_type": "text"
      },
      "source": [
        "<a href=\"https://colab.research.google.com/github/raffaelhfarias/Dados_Airbnb/blob/main/Analise_os_Dados_do_Airbnb_Veneza.ipynb\" target=\"_parent\"><img src=\"https://colab.research.google.com/assets/colab-badge.svg\" alt=\"Open In Colab\"/></a>"
      ]
    },
    {
      "cell_type": "markdown",
      "metadata": {
        "id": "kLI0gJtzDGuQ"
      },
      "source": [
        "<h1 align=\"center\">Análise dos Dados do Airbnb - Veneza</h1>\n",
        "<p align=\"center\">\n",
        "  <img src=\"https://raw.githubusercontent.com/raffaelhfarias/Dados_Airbnb/main/imgens/Veneza_Airbnb_int.png\">\n",
        "</p>\n",
        "\n",
        "# Introdução\n",
        "\n",
        "O [Airbnb](https://www.airbnb.com.br/) já é considerado como sendo a **maior empresa hoteleira da atualidade**. Ah, o detalhe é que ele **não possui nenhum hotel**!\n",
        "\n",
        "Conectando pessoas que querem viajar (e se hospedar) com anfitriões que querem alugar seus imóveis de maneira prática, o Airbnb fornece uma plataforma inovadora para tornar essa hospedagem alternativa.\n",
        "\n",
        "No final de 2018, a Startup fundada 10 anos atrás, já havia **hospedado mais de 300 milhões** de pessoas ao redor de todo o mundo, desafiando as redes hoteleiras tradicionais.\n",
        "\n",
        "Uma das iniciativas do Airbnb é disponibilizar dados do site, para algumas das principais cidades do mundo. Por meio do portal [Inside Airbnb](http://insideairbnb.com/get-the-data.html), é possível baixar uma grande quantidade de dados para desenvolver projetos e soluções de *Data Science*.\n",
        "\n",
        "**Neste *notebook*, iremos analisar os dados referentes à cidade de Veneza na Itália, e ver quais insights podem ser extraídos a partir de dados brutos.**\n",
        "\n",
        "---\n",
        "# Quem sou eu...\n",
        "\n",
        "Antes de começarmos vocês precisam saber quem fez esse projeto não é? Bom, meu nome é Raffael Henrique e tenho 28 anos, atualmente estou graduando em Ciências da Computação (3/8) na Universidade Descomplica. Estou me aprofundando no assunto Cientista de Dados e sou apaixonado por Inteligência Artificial. Atualmente estou em busca do meu primeiro emprego na área de dados.\n",
        "\n",
        "[Linkedin](https://www.linkedin.com/in/raffael-henrique-59922520a/) | [Github](https://github.com/raffaelhfarias)."
      ]
    },
    {
      "cell_type": "markdown",
      "source": [
        "# Sumário do projeto\n",
        "\n",
        "1. Configurações Iniciais\n",
        " \n",
        "    *   Importações das bibliotecas\n",
        "    *   Obtenção e Leitura dos dados\n",
        "    *   Seleção das colunas\n",
        "    *   Dicionário dos dados\n",
        "\n",
        "2. Perguntas a serem respondidas\n",
        "\n",
        "    *   Quantos atributos e quantas entradas o nosso dataset possui? tipos?\n",
        "    *   Qual a porcentagem de valores ausentes no dataset?\n",
        "    *   Qual o tipo de distribuição das variáveis?\n",
        "\n",
        "3. Verificação de Outliers\n",
        "\n",
        "    *  Boxplot para minimum_nights\n",
        "    *  Boxplot para price\n",
        "    *  Boxplot para number_of_reviews\n",
        "    *  Boxplot para reviews_per_month\n",
        "    *  Boxes sem outliers\n",
        "\n",
        "4. Perguntas a serem respondidas²\n",
        "\n",
        "    * Qual a média dos preços de aluguel?\n",
        "    * Qual a correlação existente entre as variáveis?\n",
        "    * Qual o tipo de imóvel mais alugado no Aibnb\n",
        "    * Qual a localidade mais cara do dataset?\n",
        "    * Qual a média do mínimo de noites para aluguel?\n",
        "\n",
        "5. Conclusão"
      ],
      "metadata": {
        "id": "ho5kn9mKDk8G"
      }
    },
    {
      "cell_type": "markdown",
      "metadata": {
        "id": "0zxQHhIUDF_2"
      },
      "source": [
        "## Obtenção e Leitura dos Dados\n"
      ]
    },
    {
      "cell_type": "code",
      "metadata": {
        "id": "Vhp2wMPgJ6zX"
      },
      "source": [
        "# Importações das bibliotecas\n",
        "\n",
        "import pandas as pd\n",
        "import matplotlib.pyplot as plt\n",
        "import seaborn as sns\n",
        "\n",
        "%matplotlib inline"
      ],
      "execution_count": 2,
      "outputs": []
    },
    {
      "cell_type": "code",
      "metadata": {
        "id": "tUmoAT8DLQ5T"
      },
      "source": [
        "# Leitura dos dados\n",
        "df = pd.read_csv('http://data.insideairbnb.com/italy/veneto/venice/2022-09-07/visualisations/listings.csv')"
      ],
      "execution_count": 3,
      "outputs": []
    },
    {
      "cell_type": "code",
      "metadata": {
        "id": "2iS_dae7YQtO",
        "colab": {
          "base_uri": "https://localhost:8080/",
          "height": 600
        },
        "outputId": "f31e3c10-f425-4e29-f6b0-9957b1cc79bc"
      },
      "source": [
        "# mostrando as 5 primeiras linhas\n",
        "df.head()"
      ],
      "execution_count": 4,
      "outputs": [
        {
          "output_type": "execute_result",
          "data": {
            "text/plain": [
              "      id                                             name  host_id  \\\n",
              "0   6623                   Venice Blue on Canal apartment    15016   \n",
              "1   6624             Venice garden charme and canal view!    15016   \n",
              "2  12074                Venice home to relax and emotions    15016   \n",
              "3  27116      Junior Suite with balcony overlooking canal   116144   \n",
              "4  44527  Historical Luxury Apartment on Calm Sunny Canal   120215   \n",
              "\n",
              "          host_name neighbourhood_group neighbourhood  latitude  longitude  \\\n",
              "0         Francesca               Isole      San Polo  45.43817   12.32739   \n",
              "1         Francesca               Isole   Santa Croce  45.43977   12.32736   \n",
              "2         Francesca               Isole      San Polo  45.43896   12.32970   \n",
              "3           Giò&Giò               Isole     San Marco  45.43277   12.33456   \n",
              "4  Marc & Elisabeth               Isole    Cannaregio  45.44569   12.32902   \n",
              "\n",
              "         room_type  price  minimum_nights  number_of_reviews last_review  \\\n",
              "0  Entire home/apt    250               5                175  2022-08-16   \n",
              "1  Entire home/apt    290               4                 75  2022-08-06   \n",
              "2  Entire home/apt    180               4                195  2022-07-11   \n",
              "3     Private room    250               1                416  2022-06-09   \n",
              "4  Entire home/apt    320               3                 96  2022-09-03   \n",
              "\n",
              "   reviews_per_month  calculated_host_listings_count  availability_365  \\\n",
              "0               1.12                               3               266   \n",
              "1               0.56                               3               316   \n",
              "2               1.29                               3               240   \n",
              "3               2.83                               2                70   \n",
              "4               0.69                               1               223   \n",
              "\n",
              "   number_of_reviews_ltm      license  \n",
              "0                     12          NaN  \n",
              "1                     11          NaN  \n",
              "2                     11          NaN  \n",
              "3                      5          NaN  \n",
              "4                     18  M0270422294  "
            ],
            "text/html": [
              "\n",
              "  <div id=\"df-71dc917d-b621-4d96-ab1b-003444f0938e\">\n",
              "    <div class=\"colab-df-container\">\n",
              "      <div>\n",
              "<style scoped>\n",
              "    .dataframe tbody tr th:only-of-type {\n",
              "        vertical-align: middle;\n",
              "    }\n",
              "\n",
              "    .dataframe tbody tr th {\n",
              "        vertical-align: top;\n",
              "    }\n",
              "\n",
              "    .dataframe thead th {\n",
              "        text-align: right;\n",
              "    }\n",
              "</style>\n",
              "<table border=\"1\" class=\"dataframe\">\n",
              "  <thead>\n",
              "    <tr style=\"text-align: right;\">\n",
              "      <th></th>\n",
              "      <th>id</th>\n",
              "      <th>name</th>\n",
              "      <th>host_id</th>\n",
              "      <th>host_name</th>\n",
              "      <th>neighbourhood_group</th>\n",
              "      <th>neighbourhood</th>\n",
              "      <th>latitude</th>\n",
              "      <th>longitude</th>\n",
              "      <th>room_type</th>\n",
              "      <th>price</th>\n",
              "      <th>minimum_nights</th>\n",
              "      <th>number_of_reviews</th>\n",
              "      <th>last_review</th>\n",
              "      <th>reviews_per_month</th>\n",
              "      <th>calculated_host_listings_count</th>\n",
              "      <th>availability_365</th>\n",
              "      <th>number_of_reviews_ltm</th>\n",
              "      <th>license</th>\n",
              "    </tr>\n",
              "  </thead>\n",
              "  <tbody>\n",
              "    <tr>\n",
              "      <th>0</th>\n",
              "      <td>6623</td>\n",
              "      <td>Venice Blue on Canal apartment</td>\n",
              "      <td>15016</td>\n",
              "      <td>Francesca</td>\n",
              "      <td>Isole</td>\n",
              "      <td>San Polo</td>\n",
              "      <td>45.43817</td>\n",
              "      <td>12.32739</td>\n",
              "      <td>Entire home/apt</td>\n",
              "      <td>250</td>\n",
              "      <td>5</td>\n",
              "      <td>175</td>\n",
              "      <td>2022-08-16</td>\n",
              "      <td>1.12</td>\n",
              "      <td>3</td>\n",
              "      <td>266</td>\n",
              "      <td>12</td>\n",
              "      <td>NaN</td>\n",
              "    </tr>\n",
              "    <tr>\n",
              "      <th>1</th>\n",
              "      <td>6624</td>\n",
              "      <td>Venice garden charme and canal view!</td>\n",
              "      <td>15016</td>\n",
              "      <td>Francesca</td>\n",
              "      <td>Isole</td>\n",
              "      <td>Santa Croce</td>\n",
              "      <td>45.43977</td>\n",
              "      <td>12.32736</td>\n",
              "      <td>Entire home/apt</td>\n",
              "      <td>290</td>\n",
              "      <td>4</td>\n",
              "      <td>75</td>\n",
              "      <td>2022-08-06</td>\n",
              "      <td>0.56</td>\n",
              "      <td>3</td>\n",
              "      <td>316</td>\n",
              "      <td>11</td>\n",
              "      <td>NaN</td>\n",
              "    </tr>\n",
              "    <tr>\n",
              "      <th>2</th>\n",
              "      <td>12074</td>\n",
              "      <td>Venice home to relax and emotions</td>\n",
              "      <td>15016</td>\n",
              "      <td>Francesca</td>\n",
              "      <td>Isole</td>\n",
              "      <td>San Polo</td>\n",
              "      <td>45.43896</td>\n",
              "      <td>12.32970</td>\n",
              "      <td>Entire home/apt</td>\n",
              "      <td>180</td>\n",
              "      <td>4</td>\n",
              "      <td>195</td>\n",
              "      <td>2022-07-11</td>\n",
              "      <td>1.29</td>\n",
              "      <td>3</td>\n",
              "      <td>240</td>\n",
              "      <td>11</td>\n",
              "      <td>NaN</td>\n",
              "    </tr>\n",
              "    <tr>\n",
              "      <th>3</th>\n",
              "      <td>27116</td>\n",
              "      <td>Junior Suite with balcony overlooking canal</td>\n",
              "      <td>116144</td>\n",
              "      <td>Giò&amp;Giò</td>\n",
              "      <td>Isole</td>\n",
              "      <td>San Marco</td>\n",
              "      <td>45.43277</td>\n",
              "      <td>12.33456</td>\n",
              "      <td>Private room</td>\n",
              "      <td>250</td>\n",
              "      <td>1</td>\n",
              "      <td>416</td>\n",
              "      <td>2022-06-09</td>\n",
              "      <td>2.83</td>\n",
              "      <td>2</td>\n",
              "      <td>70</td>\n",
              "      <td>5</td>\n",
              "      <td>NaN</td>\n",
              "    </tr>\n",
              "    <tr>\n",
              "      <th>4</th>\n",
              "      <td>44527</td>\n",
              "      <td>Historical Luxury Apartment on Calm Sunny Canal</td>\n",
              "      <td>120215</td>\n",
              "      <td>Marc &amp; Elisabeth</td>\n",
              "      <td>Isole</td>\n",
              "      <td>Cannaregio</td>\n",
              "      <td>45.44569</td>\n",
              "      <td>12.32902</td>\n",
              "      <td>Entire home/apt</td>\n",
              "      <td>320</td>\n",
              "      <td>3</td>\n",
              "      <td>96</td>\n",
              "      <td>2022-09-03</td>\n",
              "      <td>0.69</td>\n",
              "      <td>1</td>\n",
              "      <td>223</td>\n",
              "      <td>18</td>\n",
              "      <td>M0270422294</td>\n",
              "    </tr>\n",
              "  </tbody>\n",
              "</table>\n",
              "</div>\n",
              "      <button class=\"colab-df-convert\" onclick=\"convertToInteractive('df-71dc917d-b621-4d96-ab1b-003444f0938e')\"\n",
              "              title=\"Convert this dataframe to an interactive table.\"\n",
              "              style=\"display:none;\">\n",
              "        \n",
              "  <svg xmlns=\"http://www.w3.org/2000/svg\" height=\"24px\"viewBox=\"0 0 24 24\"\n",
              "       width=\"24px\">\n",
              "    <path d=\"M0 0h24v24H0V0z\" fill=\"none\"/>\n",
              "    <path d=\"M18.56 5.44l.94 2.06.94-2.06 2.06-.94-2.06-.94-.94-2.06-.94 2.06-2.06.94zm-11 1L8.5 8.5l.94-2.06 2.06-.94-2.06-.94L8.5 2.5l-.94 2.06-2.06.94zm10 10l.94 2.06.94-2.06 2.06-.94-2.06-.94-.94-2.06-.94 2.06-2.06.94z\"/><path d=\"M17.41 7.96l-1.37-1.37c-.4-.4-.92-.59-1.43-.59-.52 0-1.04.2-1.43.59L10.3 9.45l-7.72 7.72c-.78.78-.78 2.05 0 2.83L4 21.41c.39.39.9.59 1.41.59.51 0 1.02-.2 1.41-.59l7.78-7.78 2.81-2.81c.8-.78.8-2.07 0-2.86zM5.41 20L4 18.59l7.72-7.72 1.47 1.35L5.41 20z\"/>\n",
              "  </svg>\n",
              "      </button>\n",
              "      \n",
              "  <style>\n",
              "    .colab-df-container {\n",
              "      display:flex;\n",
              "      flex-wrap:wrap;\n",
              "      gap: 12px;\n",
              "    }\n",
              "\n",
              "    .colab-df-convert {\n",
              "      background-color: #E8F0FE;\n",
              "      border: none;\n",
              "      border-radius: 50%;\n",
              "      cursor: pointer;\n",
              "      display: none;\n",
              "      fill: #1967D2;\n",
              "      height: 32px;\n",
              "      padding: 0 0 0 0;\n",
              "      width: 32px;\n",
              "    }\n",
              "\n",
              "    .colab-df-convert:hover {\n",
              "      background-color: #E2EBFA;\n",
              "      box-shadow: 0px 1px 2px rgba(60, 64, 67, 0.3), 0px 1px 3px 1px rgba(60, 64, 67, 0.15);\n",
              "      fill: #174EA6;\n",
              "    }\n",
              "\n",
              "    [theme=dark] .colab-df-convert {\n",
              "      background-color: #3B4455;\n",
              "      fill: #D2E3FC;\n",
              "    }\n",
              "\n",
              "    [theme=dark] .colab-df-convert:hover {\n",
              "      background-color: #434B5C;\n",
              "      box-shadow: 0px 1px 3px 1px rgba(0, 0, 0, 0.15);\n",
              "      filter: drop-shadow(0px 1px 2px rgba(0, 0, 0, 0.3));\n",
              "      fill: #FFFFFF;\n",
              "    }\n",
              "  </style>\n",
              "\n",
              "      <script>\n",
              "        const buttonEl =\n",
              "          document.querySelector('#df-71dc917d-b621-4d96-ab1b-003444f0938e button.colab-df-convert');\n",
              "        buttonEl.style.display =\n",
              "          google.colab.kernel.accessAllowed ? 'block' : 'none';\n",
              "\n",
              "        async function convertToInteractive(key) {\n",
              "          const element = document.querySelector('#df-71dc917d-b621-4d96-ab1b-003444f0938e');\n",
              "          const dataTable =\n",
              "            await google.colab.kernel.invokeFunction('convertToInteractive',\n",
              "                                                     [key], {});\n",
              "          if (!dataTable) return;\n",
              "\n",
              "          const docLinkHtml = 'Like what you see? Visit the ' +\n",
              "            '<a target=\"_blank\" href=https://colab.research.google.com/notebooks/data_table.ipynb>data table notebook</a>'\n",
              "            + ' to learn more about interactive tables.';\n",
              "          element.innerHTML = '';\n",
              "          dataTable['output_type'] = 'display_data';\n",
              "          await google.colab.output.renderOutput(dataTable, element);\n",
              "          const docLink = document.createElement('div');\n",
              "          docLink.innerHTML = docLinkHtml;\n",
              "          element.appendChild(docLink);\n",
              "        }\n",
              "      </script>\n",
              "    </div>\n",
              "  </div>\n",
              "  "
            ]
          },
          "metadata": {},
          "execution_count": 4
        }
      ]
    },
    {
      "cell_type": "code",
      "source": [
        "# mostrando as 5 últimas linhas\n",
        "df.tail()"
      ],
      "metadata": {
        "id": "tvvg6VCvEzED",
        "outputId": "86f5480d-7011-4cad-be42-d5cf2aa3870a",
        "colab": {
          "base_uri": "https://localhost:8080/",
          "height": 409
        }
      },
      "execution_count": 5,
      "outputs": [
        {
          "output_type": "execute_result",
          "data": {
            "text/plain": [
              "                      id                                               name  \\\n",
              "7983            11005691                         Bright studio to Redentore   \n",
              "7984             5157327                                        Mimi'studio   \n",
              "7985             8513959                Piccola Perla nella Piccola Venezia   \n",
              "7986  574367081424254234                         Appartamento Stella Marina   \n",
              "7987            23117126  Open space near Venice, en suite bath, kitchen...   \n",
              "\n",
              "        host_id   host_name neighbourhood_group neighbourhood   latitude  \\\n",
              "7983   57108832    Gianluca               Isole      Giudecca  45.425660   \n",
              "7984   26671279      Pietro               Isole     Dorsoduro  45.428650   \n",
              "7985   24668521  Alessandra               Isole   Pellestrina  45.218840   \n",
              "7986  447685364   Valentina               Isole   Pellestrina  45.218636   \n",
              "7987  165092648      Silvia          Terraferma          Dese  45.550670   \n",
              "\n",
              "      longitude        room_type  price  minimum_nights  number_of_reviews  \\\n",
              "7983  12.332510  Entire home/apt    132               2                257   \n",
              "7984  12.335000  Entire home/apt    120               3                 35   \n",
              "7985  12.279930  Entire home/apt     54               5                 42   \n",
              "7986  12.291048  Entire home/apt     58               1                  8   \n",
              "7987  12.313260     Private room     90               2                  7   \n",
              "\n",
              "     last_review  reviews_per_month  calculated_host_listings_count  \\\n",
              "7983  2022-07-21               3.25                               1   \n",
              "7984  2020-06-21               0.41                               3   \n",
              "7985  2020-08-23               0.52                               1   \n",
              "7986  2022-07-10               1.68                               1   \n",
              "7987  2022-08-17               0.14                               1   \n",
              "\n",
              "      availability_365  number_of_reviews_ltm           license  \n",
              "7983                 0                     12       M0270422639  \n",
              "7984                 0                      0               NaN  \n",
              "7985               249                      0               NaN  \n",
              "7986               347                      8  027008-LOC-01813  \n",
              "7987               125                      2               NaN  "
            ],
            "text/html": [
              "\n",
              "  <div id=\"df-164100ed-3c8f-4d9d-a9d3-213ba75a6368\">\n",
              "    <div class=\"colab-df-container\">\n",
              "      <div>\n",
              "<style scoped>\n",
              "    .dataframe tbody tr th:only-of-type {\n",
              "        vertical-align: middle;\n",
              "    }\n",
              "\n",
              "    .dataframe tbody tr th {\n",
              "        vertical-align: top;\n",
              "    }\n",
              "\n",
              "    .dataframe thead th {\n",
              "        text-align: right;\n",
              "    }\n",
              "</style>\n",
              "<table border=\"1\" class=\"dataframe\">\n",
              "  <thead>\n",
              "    <tr style=\"text-align: right;\">\n",
              "      <th></th>\n",
              "      <th>id</th>\n",
              "      <th>name</th>\n",
              "      <th>host_id</th>\n",
              "      <th>host_name</th>\n",
              "      <th>neighbourhood_group</th>\n",
              "      <th>neighbourhood</th>\n",
              "      <th>latitude</th>\n",
              "      <th>longitude</th>\n",
              "      <th>room_type</th>\n",
              "      <th>price</th>\n",
              "      <th>minimum_nights</th>\n",
              "      <th>number_of_reviews</th>\n",
              "      <th>last_review</th>\n",
              "      <th>reviews_per_month</th>\n",
              "      <th>calculated_host_listings_count</th>\n",
              "      <th>availability_365</th>\n",
              "      <th>number_of_reviews_ltm</th>\n",
              "      <th>license</th>\n",
              "    </tr>\n",
              "  </thead>\n",
              "  <tbody>\n",
              "    <tr>\n",
              "      <th>7983</th>\n",
              "      <td>11005691</td>\n",
              "      <td>Bright studio to Redentore</td>\n",
              "      <td>57108832</td>\n",
              "      <td>Gianluca</td>\n",
              "      <td>Isole</td>\n",
              "      <td>Giudecca</td>\n",
              "      <td>45.425660</td>\n",
              "      <td>12.332510</td>\n",
              "      <td>Entire home/apt</td>\n",
              "      <td>132</td>\n",
              "      <td>2</td>\n",
              "      <td>257</td>\n",
              "      <td>2022-07-21</td>\n",
              "      <td>3.25</td>\n",
              "      <td>1</td>\n",
              "      <td>0</td>\n",
              "      <td>12</td>\n",
              "      <td>M0270422639</td>\n",
              "    </tr>\n",
              "    <tr>\n",
              "      <th>7984</th>\n",
              "      <td>5157327</td>\n",
              "      <td>Mimi'studio</td>\n",
              "      <td>26671279</td>\n",
              "      <td>Pietro</td>\n",
              "      <td>Isole</td>\n",
              "      <td>Dorsoduro</td>\n",
              "      <td>45.428650</td>\n",
              "      <td>12.335000</td>\n",
              "      <td>Entire home/apt</td>\n",
              "      <td>120</td>\n",
              "      <td>3</td>\n",
              "      <td>35</td>\n",
              "      <td>2020-06-21</td>\n",
              "      <td>0.41</td>\n",
              "      <td>3</td>\n",
              "      <td>0</td>\n",
              "      <td>0</td>\n",
              "      <td>NaN</td>\n",
              "    </tr>\n",
              "    <tr>\n",
              "      <th>7985</th>\n",
              "      <td>8513959</td>\n",
              "      <td>Piccola Perla nella Piccola Venezia</td>\n",
              "      <td>24668521</td>\n",
              "      <td>Alessandra</td>\n",
              "      <td>Isole</td>\n",
              "      <td>Pellestrina</td>\n",
              "      <td>45.218840</td>\n",
              "      <td>12.279930</td>\n",
              "      <td>Entire home/apt</td>\n",
              "      <td>54</td>\n",
              "      <td>5</td>\n",
              "      <td>42</td>\n",
              "      <td>2020-08-23</td>\n",
              "      <td>0.52</td>\n",
              "      <td>1</td>\n",
              "      <td>249</td>\n",
              "      <td>0</td>\n",
              "      <td>NaN</td>\n",
              "    </tr>\n",
              "    <tr>\n",
              "      <th>7986</th>\n",
              "      <td>574367081424254234</td>\n",
              "      <td>Appartamento Stella Marina</td>\n",
              "      <td>447685364</td>\n",
              "      <td>Valentina</td>\n",
              "      <td>Isole</td>\n",
              "      <td>Pellestrina</td>\n",
              "      <td>45.218636</td>\n",
              "      <td>12.291048</td>\n",
              "      <td>Entire home/apt</td>\n",
              "      <td>58</td>\n",
              "      <td>1</td>\n",
              "      <td>8</td>\n",
              "      <td>2022-07-10</td>\n",
              "      <td>1.68</td>\n",
              "      <td>1</td>\n",
              "      <td>347</td>\n",
              "      <td>8</td>\n",
              "      <td>027008-LOC-01813</td>\n",
              "    </tr>\n",
              "    <tr>\n",
              "      <th>7987</th>\n",
              "      <td>23117126</td>\n",
              "      <td>Open space near Venice, en suite bath, kitchen...</td>\n",
              "      <td>165092648</td>\n",
              "      <td>Silvia</td>\n",
              "      <td>Terraferma</td>\n",
              "      <td>Dese</td>\n",
              "      <td>45.550670</td>\n",
              "      <td>12.313260</td>\n",
              "      <td>Private room</td>\n",
              "      <td>90</td>\n",
              "      <td>2</td>\n",
              "      <td>7</td>\n",
              "      <td>2022-08-17</td>\n",
              "      <td>0.14</td>\n",
              "      <td>1</td>\n",
              "      <td>125</td>\n",
              "      <td>2</td>\n",
              "      <td>NaN</td>\n",
              "    </tr>\n",
              "  </tbody>\n",
              "</table>\n",
              "</div>\n",
              "      <button class=\"colab-df-convert\" onclick=\"convertToInteractive('df-164100ed-3c8f-4d9d-a9d3-213ba75a6368')\"\n",
              "              title=\"Convert this dataframe to an interactive table.\"\n",
              "              style=\"display:none;\">\n",
              "        \n",
              "  <svg xmlns=\"http://www.w3.org/2000/svg\" height=\"24px\"viewBox=\"0 0 24 24\"\n",
              "       width=\"24px\">\n",
              "    <path d=\"M0 0h24v24H0V0z\" fill=\"none\"/>\n",
              "    <path d=\"M18.56 5.44l.94 2.06.94-2.06 2.06-.94-2.06-.94-.94-2.06-.94 2.06-2.06.94zm-11 1L8.5 8.5l.94-2.06 2.06-.94-2.06-.94L8.5 2.5l-.94 2.06-2.06.94zm10 10l.94 2.06.94-2.06 2.06-.94-2.06-.94-.94-2.06-.94 2.06-2.06.94z\"/><path d=\"M17.41 7.96l-1.37-1.37c-.4-.4-.92-.59-1.43-.59-.52 0-1.04.2-1.43.59L10.3 9.45l-7.72 7.72c-.78.78-.78 2.05 0 2.83L4 21.41c.39.39.9.59 1.41.59.51 0 1.02-.2 1.41-.59l7.78-7.78 2.81-2.81c.8-.78.8-2.07 0-2.86zM5.41 20L4 18.59l7.72-7.72 1.47 1.35L5.41 20z\"/>\n",
              "  </svg>\n",
              "      </button>\n",
              "      \n",
              "  <style>\n",
              "    .colab-df-container {\n",
              "      display:flex;\n",
              "      flex-wrap:wrap;\n",
              "      gap: 12px;\n",
              "    }\n",
              "\n",
              "    .colab-df-convert {\n",
              "      background-color: #E8F0FE;\n",
              "      border: none;\n",
              "      border-radius: 50%;\n",
              "      cursor: pointer;\n",
              "      display: none;\n",
              "      fill: #1967D2;\n",
              "      height: 32px;\n",
              "      padding: 0 0 0 0;\n",
              "      width: 32px;\n",
              "    }\n",
              "\n",
              "    .colab-df-convert:hover {\n",
              "      background-color: #E2EBFA;\n",
              "      box-shadow: 0px 1px 2px rgba(60, 64, 67, 0.3), 0px 1px 3px 1px rgba(60, 64, 67, 0.15);\n",
              "      fill: #174EA6;\n",
              "    }\n",
              "\n",
              "    [theme=dark] .colab-df-convert {\n",
              "      background-color: #3B4455;\n",
              "      fill: #D2E3FC;\n",
              "    }\n",
              "\n",
              "    [theme=dark] .colab-df-convert:hover {\n",
              "      background-color: #434B5C;\n",
              "      box-shadow: 0px 1px 3px 1px rgba(0, 0, 0, 0.15);\n",
              "      filter: drop-shadow(0px 1px 2px rgba(0, 0, 0, 0.3));\n",
              "      fill: #FFFFFF;\n",
              "    }\n",
              "  </style>\n",
              "\n",
              "      <script>\n",
              "        const buttonEl =\n",
              "          document.querySelector('#df-164100ed-3c8f-4d9d-a9d3-213ba75a6368 button.colab-df-convert');\n",
              "        buttonEl.style.display =\n",
              "          google.colab.kernel.accessAllowed ? 'block' : 'none';\n",
              "\n",
              "        async function convertToInteractive(key) {\n",
              "          const element = document.querySelector('#df-164100ed-3c8f-4d9d-a9d3-213ba75a6368');\n",
              "          const dataTable =\n",
              "            await google.colab.kernel.invokeFunction('convertToInteractive',\n",
              "                                                     [key], {});\n",
              "          if (!dataTable) return;\n",
              "\n",
              "          const docLinkHtml = 'Like what you see? Visit the ' +\n",
              "            '<a target=\"_blank\" href=https://colab.research.google.com/notebooks/data_table.ipynb>data table notebook</a>'\n",
              "            + ' to learn more about interactive tables.';\n",
              "          element.innerHTML = '';\n",
              "          dataTable['output_type'] = 'display_data';\n",
              "          await google.colab.output.renderOutput(dataTable, element);\n",
              "          const docLink = document.createElement('div');\n",
              "          docLink.innerHTML = docLinkHtml;\n",
              "          element.appendChild(docLink);\n",
              "        }\n",
              "      </script>\n",
              "    </div>\n",
              "  </div>\n",
              "  "
            ]
          },
          "metadata": {},
          "execution_count": 5
        }
      ]
    },
    {
      "cell_type": "markdown",
      "metadata": {
        "id": "qb5By2nIMS6m"
      },
      "source": [
        "## Análise dos Dados\n"
      ]
    },
    {
      "cell_type": "markdown",
      "metadata": {
        "id": "RYgvuebKNg8-"
      },
      "source": [
        "**Dicionário das variáveis**\n",
        "\n",
        "* `id`: número de id gerado para identificar o imóvel\n",
        "* `name`:\tnome da propriedade anunciada\n",
        "* `host_id`: número de id do proprietário (anfitrião) da propriedade\n",
        "* `host_name`: Nome do anfitrião\n",
        "* `neighbourhood_group`: esta coluna não contém nenhum valor válido\n",
        "* `neighbourhood`: nome do bairro\n",
        "* `latitude`: coordenada da latitude da propriedade\n",
        "* `longitude`: coordenada da longitude da propriedade\n",
        "* `room_type`: informa o tipo de quarto que é oferecido\n",
        "* `price`: preço para alugar o imóvel\n",
        "* `minimum_nights`:\tquantidade mínima de noites para reservar\n",
        "* `number_of_reviews`: número de avalições que a propriedade possui\n",
        "* `last_review`: data da última avaliação\n",
        "* `reviews_per_month`:\tquantidade de avaliações por mês\n",
        "* `calculated_host_listings_count`:\tquantidade de imóveis do mesmo anfitrião\n",
        "* `availability_365`: número de dias de disponibilidade dentro de 365 dias\n",
        "* `number_of_reviews_ltm`:\tnúmero de avaliações nos últimos 12 meses\n",
        "* `license`: se o imóvel possui licensa\n",
        "\n",
        "Antes de iniciar qualquer análise, vamos verificar a cara do nosso *dataset*, analisando as 5 primeiras entradas."
      ]
    },
    {
      "cell_type": "markdown",
      "metadata": {
        "id": "6-B_qtEaYEd-"
      },
      "source": [
        "### **Quantos atributos (variáveis) e quantas entradas o nosso conjunto de dados possui? Quais os tipos das variáveis?**"
      ]
    },
    {
      "cell_type": "code",
      "metadata": {
        "id": "TFRK0tniLV-G",
        "colab": {
          "base_uri": "https://localhost:8080/"
        },
        "outputId": "b4df6b15-20b3-4c61-9cdf-591e2361eb95"
      },
      "source": [
        "# identificando o volume de dados do DataFrame\n",
        "print('Entradas:\\t {}'.format(df.shape[0]))\n",
        "print('Variáveis:\\t {}\\n'.format(df.shape[1]))\n",
        "\n",
        "# verificando os tipos dos dados do dataset\n",
        "df.dtypes"
      ],
      "execution_count": 6,
      "outputs": [
        {
          "output_type": "stream",
          "name": "stdout",
          "text": [
            "Entradas:\t 7988\n",
            "Variáveis:\t 18\n",
            "\n"
          ]
        },
        {
          "output_type": "execute_result",
          "data": {
            "text/plain": [
              "id                                  int64\n",
              "name                               object\n",
              "host_id                             int64\n",
              "host_name                          object\n",
              "neighbourhood_group                object\n",
              "neighbourhood                      object\n",
              "latitude                          float64\n",
              "longitude                         float64\n",
              "room_type                          object\n",
              "price                               int64\n",
              "minimum_nights                      int64\n",
              "number_of_reviews                   int64\n",
              "last_review                        object\n",
              "reviews_per_month                 float64\n",
              "calculated_host_listings_count      int64\n",
              "availability_365                    int64\n",
              "number_of_reviews_ltm               int64\n",
              "license                            object\n",
              "dtype: object"
            ]
          },
          "metadata": {},
          "execution_count": 6
        }
      ]
    },
    {
      "cell_type": "markdown",
      "source": [
        "Como podemos observar, a leitura do arquivo foi feita com sucesso e agora temos a informação que o conjunto de dados possui 7988 linhas e 18 colunas.\n",
        "\n",
        "Vemos que a variável `last_review` está como object, por ser uma data e como eu considero datas um dado muito importante se tratando de análises, iremos transformar a variável em datetime utilizando o `pd.to_datetime`"
      ],
      "metadata": {
        "id": "7mLP_A45jRpp"
      }
    },
    {
      "cell_type": "code",
      "source": [
        "# Alterando o tipo da variável\n",
        "df['last_review'] = pd.to_datetime(df['last_review'], format='%Y-%m-%d')\n",
        "\n",
        "# Visualizando a alteração\n",
        "df.dtypes"
      ],
      "metadata": {
        "colab": {
          "base_uri": "https://localhost:8080/"
        },
        "id": "tIHrFxYpi6j4",
        "outputId": "ae8b7383-2337-4a7b-9e8f-081b95d59e4f"
      },
      "execution_count": 7,
      "outputs": [
        {
          "output_type": "execute_result",
          "data": {
            "text/plain": [
              "id                                         int64\n",
              "name                                      object\n",
              "host_id                                    int64\n",
              "host_name                                 object\n",
              "neighbourhood_group                       object\n",
              "neighbourhood                             object\n",
              "latitude                                 float64\n",
              "longitude                                float64\n",
              "room_type                                 object\n",
              "price                                      int64\n",
              "minimum_nights                             int64\n",
              "number_of_reviews                          int64\n",
              "last_review                       datetime64[ns]\n",
              "reviews_per_month                        float64\n",
              "calculated_host_listings_count             int64\n",
              "availability_365                           int64\n",
              "number_of_reviews_ltm                      int64\n",
              "license                                   object\n",
              "dtype: object"
            ]
          },
          "metadata": {},
          "execution_count": 7
        }
      ]
    },
    {
      "cell_type": "markdown",
      "metadata": {
        "id": "yz1urSUGW9iE"
      },
      "source": [
        "### **Qual a porcentagem de valores ausentes no *dataset*?**"
      ]
    },
    {
      "cell_type": "markdown",
      "source": [
        "Para realizarmos a verificação dos dados ausentes utilizaremos o método `isnull()` junto com `.sum`, que, basicamente é realizado uma contagem de cada valor NaN."
      ],
      "metadata": {
        "id": "IAJHxVffHc_u"
      }
    },
    {
      "cell_type": "code",
      "metadata": {
        "id": "plk2FjbCXOqP",
        "colab": {
          "base_uri": "https://localhost:8080/"
        },
        "outputId": "857f55bb-82eb-4c54-8659-c42b6bb061ed"
      },
      "source": [
        "# ordenando em ordem decrescente as variáveis por seus valores ausentes\n",
        "print(\"% dos valores nulos antes da transformação: \\n\")\n",
        "(df.isnull().sum() / df.shape[0]*100).sort_values(ascending=False)"
      ],
      "execution_count": 8,
      "outputs": [
        {
          "output_type": "stream",
          "name": "stdout",
          "text": [
            "% dos valores nulos antes da transformação: \n",
            "\n"
          ]
        },
        {
          "output_type": "execute_result",
          "data": {
            "text/plain": [
              "license                           79.006009\n",
              "reviews_per_month                  9.989985\n",
              "last_review                        9.989985\n",
              "name                               0.000000\n",
              "number_of_reviews_ltm              0.000000\n",
              "availability_365                   0.000000\n",
              "calculated_host_listings_count     0.000000\n",
              "number_of_reviews                  0.000000\n",
              "minimum_nights                     0.000000\n",
              "id                                 0.000000\n",
              "room_type                          0.000000\n",
              "longitude                          0.000000\n",
              "latitude                           0.000000\n",
              "neighbourhood                      0.000000\n",
              "neighbourhood_group                0.000000\n",
              "host_name                          0.000000\n",
              "host_id                            0.000000\n",
              "price                              0.000000\n",
              "dtype: float64"
            ]
          },
          "metadata": {},
          "execution_count": 8
        }
      ]
    },
    {
      "cell_type": "markdown",
      "source": [
        "Para efeitos de análises as colunas que mais possuem valores em branco não interferem em qualquer linha de raciocínio, mas iremos trata-los mesmo assim."
      ],
      "metadata": {
        "id": "6V0whN_7Djj3"
      }
    },
    {
      "cell_type": "code",
      "source": [
        "display(df['license'].value_counts(), df['reviews_per_month'].value_counts(), df['last_review'].value_counts())"
      ],
      "metadata": {
        "id": "3PmuSDmyG88m",
        "outputId": "b0041cc0-6b4c-493e-a1c4-93009ba50394",
        "colab": {
          "base_uri": "https://localhost:8080/",
          "height": 642
        }
      },
      "execution_count": 9,
      "outputs": [
        {
          "output_type": "display_data",
          "data": {
            "text/plain": [
              "0420291                             7\n",
              "M02704211506                        6\n",
              "027042-LOC-11342                    6\n",
              "B0270420410                         6\n",
              "M0270427729                         5\n",
              "                                   ..\n",
              "LOCAZIONE TURISTICA M02704210846    1\n",
              "M0270425121                         1\n",
              "M0270424382                         1\n",
              "M0270425099                         1\n",
              "027008-LOC-01813                    1\n",
              "Name: license, Length: 1524, dtype: int64"
            ]
          },
          "metadata": {}
        },
        {
          "output_type": "display_data",
          "data": {
            "text/plain": [
              "1.00     97\n",
              "0.08     65\n",
              "0.03     60\n",
              "0.10     56\n",
              "0.21     54\n",
              "         ..\n",
              "5.30      1\n",
              "5.01      1\n",
              "9.15      1\n",
              "10.11     1\n",
              "5.40      1\n",
              "Name: reviews_per_month, Length: 744, dtype: int64"
            ]
          },
          "metadata": {}
        },
        {
          "output_type": "display_data",
          "data": {
            "text/plain": [
              "2022-09-04    260\n",
              "2022-08-21    253\n",
              "2022-09-05    220\n",
              "2022-08-24    216\n",
              "2022-08-22    215\n",
              "             ... \n",
              "2018-04-01      1\n",
              "2018-05-23      1\n",
              "2020-12-23      1\n",
              "2022-04-27      1\n",
              "2018-05-07      1\n",
              "Name: last_review, Length: 792, dtype: int64"
            ]
          },
          "metadata": {}
        }
      ]
    },
    {
      "cell_type": "markdown",
      "source": [
        "uma das formas de que eu encontrei para tratar estes dados é trocar os valores ausentes para 0, e depois os transformar para 'Sem Resposta', que será realizado mais para frente."
      ],
      "metadata": {
        "id": "_UVDkYF1MQK6"
      }
    },
    {
      "cell_type": "code",
      "source": [
        "valores = {'license': 0,\n",
        "           'reviews_per_month': 0.0,\n",
        "           'last_review': 0}\n",
        "\n",
        "df = df.fillna(value = valores)"
      ],
      "metadata": {
        "id": "aCjY1AGIMatc"
      },
      "execution_count": 12,
      "outputs": []
    },
    {
      "cell_type": "code",
      "source": [
        "print(\"% dos valores nulos depois da transformação: \\n\")\n",
        "(df.isnull().sum() / df.shape[0]*100).sort_values(ascending=False)"
      ],
      "metadata": {
        "colab": {
          "base_uri": "https://localhost:8080/"
        },
        "id": "XnkeeecDFGrj",
        "outputId": "7d90ca24-d434-4fe5-fb75-8239df566502"
      },
      "execution_count": 13,
      "outputs": [
        {
          "output_type": "stream",
          "name": "stdout",
          "text": [
            "% dos valores nulos depois da transformação: \n",
            "\n"
          ]
        },
        {
          "output_type": "execute_result",
          "data": {
            "text/plain": [
              "id                                0.0\n",
              "name                              0.0\n",
              "number_of_reviews_ltm             0.0\n",
              "availability_365                  0.0\n",
              "calculated_host_listings_count    0.0\n",
              "reviews_per_month                 0.0\n",
              "last_review                       0.0\n",
              "number_of_reviews                 0.0\n",
              "minimum_nights                    0.0\n",
              "price                             0.0\n",
              "room_type                         0.0\n",
              "longitude                         0.0\n",
              "latitude                          0.0\n",
              "neighbourhood                     0.0\n",
              "neighbourhood_group               0.0\n",
              "host_name                         0.0\n",
              "host_id                           0.0\n",
              "license                           0.0\n",
              "dtype: float64"
            ]
          },
          "metadata": {},
          "execution_count": 13
        }
      ]
    },
    {
      "cell_type": "markdown",
      "source": [
        "Dados faltantes tratados com sucesso! ;D"
      ],
      "metadata": {
        "id": "jOCgEOryFLEj"
      }
    },
    {
      "cell_type": "markdown",
      "metadata": {
        "id": "iHXvvHIxaoNc"
      },
      "source": [
        "### **Qual o tipo de distribuição das variáveis?** "
      ]
    },
    {
      "cell_type": "code",
      "source": [
        "# plotando histograma das variáveis numéricas\n",
        "\n",
        "plt.style.use('fivethirtyeight')\n",
        "\n",
        "df.plot(kind='box', subplots = True, layout = (5, 5), figsize = (20, 16))\n",
        "plt.show()"
      ],
      "metadata": {
        "colab": {
          "base_uri": "https://localhost:8080/",
          "height": 610
        },
        "id": "cvsdBoRVGNhW",
        "outputId": "e640e147-3013-4906-95d6-691f2722b669"
      },
      "execution_count": 33,
      "outputs": [
        {
          "output_type": "display_data",
          "data": {
            "text/plain": [
              "<Figure size 1440x1152 with 25 Axes>"
            ],
            "image/png": "[encoded data removed]"
          },
          "metadata": {}
        }
      ]
    },
    {
      "cell_type": "markdown",
      "source": [
        "### **Verificando Outliers**"
      ],
      "metadata": {
        "id": "8phjN-4NJZD1"
      }
    },
    {
      "cell_type": "markdown",
      "source": [
        "Pela distribuição dos boxes, é possível verificar indícios da presença de *outliers*. Olhe por exemplo as variáveis `price`, `minimum_nights`.\n",
        "\n",
        "> Os outliers são dados que se diferenciam drasticamente de todos os outros. Em outras palavras, um outlier é um valor que foge da normalidade e que pode (e provavelmente irá) causar anomalias nos resultados obtidos por meio de algoritmos e sistemas de análise.\n",
        "\n",
        "<img src=\"https://raw.githubusercontent.com/raffaelhfarias/Dados_Airbnb/main/imgens/outliers.png\">\n",
        "\n",
        "Há duas maneiras rápidas que auxiliam a detecção de *outliers*. São elas:\n",
        "\n",
        "* Resumo estatístico por meio do método `describe()`\n",
        "* Plotar `boxplots` para a variável."
      ],
      "metadata": {
        "id": "UjsdrlFtJ5K4"
      }
    },
    {
      "cell_type": "code",
      "source": [
        "# Aplicando o describe\n",
        "df[['price', 'minimum_nights', 'number_of_reviews', 'reviews_per_month',\n",
        "    'calculated_host_listings_count', 'availability_365']].describe()"
      ],
      "metadata": {
        "colab": {
          "base_uri": "https://localhost:8080/",
          "height": 300
        },
        "id": "pp23uiiiHTId",
        "outputId": "28d74bce-765d-4189-b4d6-a0d36f2334d7"
      },
      "execution_count": 30,
      "outputs": [
        {
          "output_type": "execute_result",
          "data": {
            "text/plain": [
              "              price  minimum_nights  number_of_reviews  reviews_per_month  \\\n",
              "count   7988.000000     7988.000000        7988.000000        7988.000000   \n",
              "mean     268.780421        2.666375          70.130446           1.665531   \n",
              "std     1080.746953       13.732286          99.494762           4.570314   \n",
              "min        0.000000        1.000000           0.000000           0.000000   \n",
              "25%      100.000000        1.000000           6.000000           0.310000   \n",
              "50%      146.000000        2.000000          30.000000           1.040000   \n",
              "75%      229.000000        3.000000          95.000000           2.330000   \n",
              "max    21000.000000      999.000000         981.000000         326.420000   \n",
              "\n",
              "       calculated_host_listings_count  availability_365  \n",
              "count                     7988.000000       7988.000000  \n",
              "mean                         9.948172        197.939159  \n",
              "std                         19.122828        122.551494  \n",
              "min                          1.000000          0.000000  \n",
              "25%                          1.000000         76.000000  \n",
              "50%                          3.000000        237.000000  \n",
              "75%                          8.000000        308.000000  \n",
              "max                        113.000000        365.000000  "
            ],
            "text/html": [
              "\n",
              "  <div id=\"df-0444c80e-74fa-42d7-a5f3-dcb534708fd4\">\n",
              "    <div class=\"colab-df-container\">\n",
              "      <div>\n",
              "<style scoped>\n",
              "    .dataframe tbody tr th:only-of-type {\n",
              "        vertical-align: middle;\n",
              "    }\n",
              "\n",
              "    .dataframe tbody tr th {\n",
              "        vertical-align: top;\n",
              "    }\n",
              "\n",
              "    .dataframe thead th {\n",
              "        text-align: right;\n",
              "    }\n",
              "</style>\n",
              "<table border=\"1\" class=\"dataframe\">\n",
              "  <thead>\n",
              "    <tr style=\"text-align: right;\">\n",
              "      <th></th>\n",
              "      <th>price</th>\n",
              "      <th>minimum_nights</th>\n",
              "      <th>number_of_reviews</th>\n",
              "      <th>reviews_per_month</th>\n",
              "      <th>calculated_host_listings_count</th>\n",
              "      <th>availability_365</th>\n",
              "    </tr>\n",
              "  </thead>\n",
              "  <tbody>\n",
              "    <tr>\n",
              "      <th>count</th>\n",
              "      <td>7988.000000</td>\n",
              "      <td>7988.000000</td>\n",
              "      <td>7988.000000</td>\n",
              "      <td>7988.000000</td>\n",
              "      <td>7988.000000</td>\n",
              "      <td>7988.000000</td>\n",
              "    </tr>\n",
              "    <tr>\n",
              "      <th>mean</th>\n",
              "      <td>268.780421</td>\n",
              "      <td>2.666375</td>\n",
              "      <td>70.130446</td>\n",
              "      <td>1.665531</td>\n",
              "      <td>9.948172</td>\n",
              "      <td>197.939159</td>\n",
              "    </tr>\n",
              "    <tr>\n",
              "      <th>std</th>\n",
              "      <td>1080.746953</td>\n",
              "      <td>13.732286</td>\n",
              "      <td>99.494762</td>\n",
              "      <td>4.570314</td>\n",
              "      <td>19.122828</td>\n",
              "      <td>122.551494</td>\n",
              "    </tr>\n",
              "    <tr>\n",
              "      <th>min</th>\n",
              "      <td>0.000000</td>\n",
              "      <td>1.000000</td>\n",
              "      <td>0.000000</td>\n",
              "      <td>0.000000</td>\n",
              "      <td>1.000000</td>\n",
              "      <td>0.000000</td>\n",
              "    </tr>\n",
              "    <tr>\n",
              "      <th>25%</th>\n",
              "      <td>100.000000</td>\n",
              "      <td>1.000000</td>\n",
              "      <td>6.000000</td>\n",
              "      <td>0.310000</td>\n",
              "      <td>1.000000</td>\n",
              "      <td>76.000000</td>\n",
              "    </tr>\n",
              "    <tr>\n",
              "      <th>50%</th>\n",
              "      <td>146.000000</td>\n",
              "      <td>2.000000</td>\n",
              "      <td>30.000000</td>\n",
              "      <td>1.040000</td>\n",
              "      <td>3.000000</td>\n",
              "      <td>237.000000</td>\n",
              "    </tr>\n",
              "    <tr>\n",
              "      <th>75%</th>\n",
              "      <td>229.000000</td>\n",
              "      <td>3.000000</td>\n",
              "      <td>95.000000</td>\n",
              "      <td>2.330000</td>\n",
              "      <td>8.000000</td>\n",
              "      <td>308.000000</td>\n",
              "    </tr>\n",
              "    <tr>\n",
              "      <th>max</th>\n",
              "      <td>21000.000000</td>\n",
              "      <td>999.000000</td>\n",
              "      <td>981.000000</td>\n",
              "      <td>326.420000</td>\n",
              "      <td>113.000000</td>\n",
              "      <td>365.000000</td>\n",
              "    </tr>\n",
              "  </tbody>\n",
              "</table>\n",
              "</div>\n",
              "      <button class=\"colab-df-convert\" onclick=\"convertToInteractive('df-0444c80e-74fa-42d7-a5f3-dcb534708fd4')\"\n",
              "              title=\"Convert this dataframe to an interactive table.\"\n",
              "              style=\"display:none;\">\n",
              "        \n",
              "  <svg xmlns=\"http://www.w3.org/2000/svg\" height=\"24px\"viewBox=\"0 0 24 24\"\n",
              "       width=\"24px\">\n",
              "    <path d=\"M0 0h24v24H0V0z\" fill=\"none\"/>\n",
              "    <path d=\"M18.56 5.44l.94 2.06.94-2.06 2.06-.94-2.06-.94-.94-2.06-.94 2.06-2.06.94zm-11 1L8.5 8.5l.94-2.06 2.06-.94-2.06-.94L8.5 2.5l-.94 2.06-2.06.94zm10 10l.94 2.06.94-2.06 2.06-.94-2.06-.94-.94-2.06-.94 2.06-2.06.94z\"/><path d=\"M17.41 7.96l-1.37-1.37c-.4-.4-.92-.59-1.43-.59-.52 0-1.04.2-1.43.59L10.3 9.45l-7.72 7.72c-.78.78-.78 2.05 0 2.83L4 21.41c.39.39.9.59 1.41.59.51 0 1.02-.2 1.41-.59l7.78-7.78 2.81-2.81c.8-.78.8-2.07 0-2.86zM5.41 20L4 18.59l7.72-7.72 1.47 1.35L5.41 20z\"/>\n",
              "  </svg>\n",
              "      </button>\n",
              "      \n",
              "  <style>\n",
              "    .colab-df-container {\n",
              "      display:flex;\n",
              "      flex-wrap:wrap;\n",
              "      gap: 12px;\n",
              "    }\n",
              "\n",
              "    .colab-df-convert {\n",
              "      background-color: #E8F0FE;\n",
              "      border: none;\n",
              "      border-radius: 50%;\n",
              "      cursor: pointer;\n",
              "      display: none;\n",
              "      fill: #1967D2;\n",
              "      height: 32px;\n",
              "      padding: 0 0 0 0;\n",
              "      width: 32px;\n",
              "    }\n",
              "\n",
              "    .colab-df-convert:hover {\n",
              "      background-color: #E2EBFA;\n",
              "      box-shadow: 0px 1px 2px rgba(60, 64, 67, 0.3), 0px 1px 3px 1px rgba(60, 64, 67, 0.15);\n",
              "      fill: #174EA6;\n",
              "    }\n",
              "\n",
              "    [theme=dark] .colab-df-convert {\n",
              "      background-color: #3B4455;\n",
              "      fill: #D2E3FC;\n",
              "    }\n",
              "\n",
              "    [theme=dark] .colab-df-convert:hover {\n",
              "      background-color: #434B5C;\n",
              "      box-shadow: 0px 1px 3px 1px rgba(0, 0, 0, 0.15);\n",
              "      filter: drop-shadow(0px 1px 2px rgba(0, 0, 0, 0.3));\n",
              "      fill: #FFFFFF;\n",
              "    }\n",
              "  </style>\n",
              "\n",
              "      <script>\n",
              "        const buttonEl =\n",
              "          document.querySelector('#df-0444c80e-74fa-42d7-a5f3-dcb534708fd4 button.colab-df-convert');\n",
              "        buttonEl.style.display =\n",
              "          google.colab.kernel.accessAllowed ? 'block' : 'none';\n",
              "\n",
              "        async function convertToInteractive(key) {\n",
              "          const element = document.querySelector('#df-0444c80e-74fa-42d7-a5f3-dcb534708fd4');\n",
              "          const dataTable =\n",
              "            await google.colab.kernel.invokeFunction('convertToInteractive',\n",
              "                                                     [key], {});\n",
              "          if (!dataTable) return;\n",
              "\n",
              "          const docLinkHtml = 'Like what you see? Visit the ' +\n",
              "            '<a target=\"_blank\" href=https://colab.research.google.com/notebooks/data_table.ipynb>data table notebook</a>'\n",
              "            + ' to learn more about interactive tables.';\n",
              "          element.innerHTML = '';\n",
              "          dataTable['output_type'] = 'display_data';\n",
              "          await google.colab.output.renderOutput(dataTable, element);\n",
              "          const docLink = document.createElement('div');\n",
              "          docLink.innerHTML = docLinkHtml;\n",
              "          element.appendChild(docLink);\n",
              "        }\n",
              "      </script>\n",
              "    </div>\n",
              "  </div>\n",
              "  "
            ]
          },
          "metadata": {},
          "execution_count": 30
        }
      ]
    },
    {
      "cell_type": "markdown",
      "source": [
        "Podemos observar que temos outliers na maioria das colunas. porém provavalmente eles não vão ser um problema tão grande assim. Para termos certeza sobre estas informações, vamos verificar todas as colunas individualmente abaixo."
      ],
      "metadata": {
        "id": "NrCAhVEZG5o7"
      }
    },
    {
      "cell_type": "markdown",
      "source": [
        "Verificando as informações acima temos dois questionamentos:\n",
        "\n",
        "*   A variável `price` possui 75% do valor até 229, mas o valor máximo é 21000 acredito que seja um desvio considerável.\n",
        "*   A quantidade mínima de noites(`minimum_nights`) o valor máximo está maior que 365 dias.\n",
        "* A mesma questão da variável `price` se repete nas variáveis `number_of_reviews` e `reviews_per_month` com desvios consideráveis\n",
        "\n",
        "#### Boxplot para `minimum_nights`\n",
        "\n",
        "O gráfico Boxplot é, normalmente, utilizado para visualizar ou identificar se há presença de outliers nos dados.\n"
      ],
      "metadata": {
        "id": "Y0xVCztwH4HW"
      }
    },
    {
      "cell_type": "code",
      "source": [
        "# Plotando o boxplot da coluna minimum_nights\n",
        "df['minimum_nights'].plot(kind='box', vert=False, figsize=(15, 3))\n",
        "plt.show()\n",
        "\n",
        "# Verificando a quantidade de valores acima de 30 dias para minimum_nights\n",
        "print(\"minimum_nights: valores acima de 2,66:\")\n",
        "print(\"{} entradas\".format(len(df[df.minimum_nights > 2.66])))\n",
        "print(\"{:.4f}%\".format((len(df[df.minimum_nights > 2.66]) / df.shape[0])*100))"
      ],
      "metadata": {
        "colab": {
          "base_uri": "https://localhost:8080/",
          "height": 275
        },
        "id": "lLzA1vJiK-hl",
        "outputId": "c260ae0f-a971-43cc-b30f-992a5b41cf14"
      },
      "execution_count": 52,
      "outputs": [
        {
          "output_type": "display_data",
          "data": {
            "text/plain": [
              "<Figure size 1080x216 with 1 Axes>"
            ],
            "image/png": "[encoded data removed]"
          },
          "metadata": {}
        },
        {
          "output_type": "stream",
          "name": "stdout",
          "text": [
            "minimum_nights: valores acima de 2,66:\n",
            "2355 entradas\n",
            "29.4817%\n"
          ]
        }
      ]
    },
    {
      "cell_type": "markdown",
      "source": [
        "#### Boxplot para price\n",
        "\n",
        "**Porque estou utilizando o valor 268?** \n",
        "\n",
        "Como não tenho conhecimento de absolutamente nada sobre valores lá em Veneza na Itália kkk, peguei o valor médio da variável `price`."
      ],
      "metadata": {
        "id": "a6lHcEqDLb4O"
      }
    },
    {
      "cell_type": "code",
      "source": [
        "# Plotando o boxplot\n",
        "df['price'].plot(kind='box', vert=False, figsize=(15, 3))\n",
        "plt.show()\n",
        "\n",
        "# Verificando a quantidade de valores acima de 268 dias para price\n",
        "print(\"\\nprice: valores acima de 268:\")\n",
        "print(\"{} entradas\".format(len(df[df.minimum_nights > 268])))\n",
        "print(\"{:.4f}%\".format((len(df[df.minimum_nights > 268]) / df.shape[0])*100))"
      ],
      "metadata": {
        "colab": {
          "base_uri": "https://localhost:8080/",
          "height": 292
        },
        "id": "Ck-aDzsOLhBv",
        "outputId": "90aa34c1-4ffc-4b63-edf8-ea6953bd4c78"
      },
      "execution_count": 32,
      "outputs": [
        {
          "output_type": "display_data",
          "data": {
            "text/plain": [
              "<Figure size 1080x216 with 1 Axes>"
            ],
            "image/png": "[encoded data removed]"
          },
          "metadata": {}
        },
        {
          "output_type": "stream",
          "name": "stdout",
          "text": [
            "\n",
            "price: valores acima de 268:\n",
            "4 entradas\n",
            "0.0501%\n"
          ]
        }
      ]
    },
    {
      "cell_type": "markdown",
      "source": [
        "#### Boxplot para number_of_reviews\n",
        "\n",
        "Utilizarei a média para tratar as variáveis referente a reviews"
      ],
      "metadata": {
        "id": "ZQ7kRzcnJw8v"
      }
    },
    {
      "cell_type": "code",
      "source": [
        "# Plotando o boxplot da variável number_of_reviews\n",
        "\n",
        "df['number_of_reviews'].plot(kind='box', vert=False, figsize=(15,3))\n",
        "plt.show()\n",
        "\n",
        "# Verificando a quantidade de valores acima de 268 dias para price\n",
        "print(\"\\nprice: valores acima de 70:\")\n",
        "print(\"{} entradas\".format(len(df[df.number_of_reviews > 70])))\n",
        "print(\"{:.4f}%\".format((len(df[df.number_of_reviews > 70]) / df.shape[0])*100))"
      ],
      "metadata": {
        "colab": {
          "base_uri": "https://localhost:8080/",
          "height": 292
        },
        "id": "d8jNrvCGKpPt",
        "outputId": "6aec35f0-cabd-4925-ceaf-99c3b0656c91"
      },
      "execution_count": 36,
      "outputs": [
        {
          "output_type": "display_data",
          "data": {
            "text/plain": [
              "<Figure size 1080x216 with 1 Axes>"
            ],
            "image/png": "[encoded data removed]"
          },
          "metadata": {}
        },
        {
          "output_type": "stream",
          "name": "stdout",
          "text": [
            "\n",
            "price: valores acima de 70:\n",
            "2525 entradas\n",
            "31.6099%\n"
          ]
        }
      ]
    },
    {
      "cell_type": "markdown",
      "source": [
        "#### Boxplot para reviews_per_month"
      ],
      "metadata": {
        "id": "J1U87iaGJ-3z"
      }
    },
    {
      "cell_type": "code",
      "source": [
        "# Plotando o boxplot da variável reviews_per_month\n",
        "\n",
        "df['reviews_per_month'].plot(kind='box', vert=False, figsize=(15,3))\n",
        "plt.show()\n",
        "\n",
        "# Verificando a quantidade de valores acima de 268 dias para price\n",
        "print(\"\\nprice: valores acima de 70:\")\n",
        "print(\"{} entradas\".format(len(df[df.reviews_per_month > 1.66])))\n",
        "print(\"{:.4f}%\".format((len(df[df.reviews_per_month > 1.66]) / df.shape[0])*100))"
      ],
      "metadata": {
        "colab": {
          "base_uri": "https://localhost:8080/",
          "height": 292
        },
        "id": "zELXPEoLLKtu",
        "outputId": "774c6954-beb4-4c86-ce40-e87fc837337c"
      },
      "execution_count": 37,
      "outputs": [
        {
          "output_type": "display_data",
          "data": {
            "text/plain": [
              "<Figure size 1080x216 with 1 Axes>"
            ],
            "image/png": "[encoded data removed]"
          },
          "metadata": {}
        },
        {
          "output_type": "stream",
          "name": "stdout",
          "text": [
            "\n",
            "price: valores acima de 70:\n",
            "2851 entradas\n",
            "35.6910%\n"
          ]
        }
      ]
    },
    {
      "cell_type": "markdown",
      "source": [
        "#### Boxes sem *outliers*\n",
        "\n",
        "Já que identificamos *outliers* nas variáveis `price` e `minimum_nights`, vamos agora limpar o *DataFrame* delas e plotar novamente o gráfico de box."
      ],
      "metadata": {
        "id": "KncwreApMTNN"
      }
    },
    {
      "cell_type": "code",
      "source": [
        "# removendo os *outliers* em um novo DataFrame\n",
        "df_clean = df.copy()\n",
        "df_clean.drop(df_clean[df_clean['price'] > 268].index, axis=0, inplace=True)\n",
        "df_clean.drop(df_clean[df_clean['minimum_nights'] > 2.66].index, axis=0, inplace=True)\n",
        "df_clean.drop(df_clean[df_clean['number_of_reviews'] > 70].index, axis=0, inplace=True)\n",
        "df_clean.drop(df_clean[df_clean['reviews_per_month'] > 1.66].index, axis=0, inplace=True)\n",
        "\n",
        "# plotando o histograma para as variáveis numéricas\n",
        "df_clean.plot(kind='box', subplots = True, layout=(5,5), figsize = (20, 16))\n",
        "plt.show()\n",
        "#df.plot(kind='box', subplots = True, layout = (5, 5), figsize = (20, 16))\n",
        "#plt.show()"
      ],
      "metadata": {
        "colab": {
          "base_uri": "https://localhost:8080/",
          "height": 610
        },
        "id": "09YLNLrfMYhF",
        "outputId": "437b624c-1ca5-4ec0-b39e-8d133dd9aa2d"
      },
      "execution_count": 54,
      "outputs": [
        {
          "output_type": "display_data",
          "data": {
            "text/plain": [
              "<Figure size 1440x1152 with 25 Axes>"
            ],
            "image/png": "[encoded data removed]"
          },
          "metadata": {}
        }
      ]
    },
    {
      "cell_type": "markdown",
      "source": [
        "Já conseguimos ver algo mais analisável nos gráficos de boxes das variáveis `price`, `minimum_nights`, `number_of_reviews` e `reviews_per_month`."
      ],
      "metadata": {
        "id": "e7yp8GJIaSPd"
      }
    },
    {
      "cell_type": "markdown",
      "metadata": {
        "id": "7x4aw1j5wNmn"
      },
      "source": [
        "### **Qual a média dos preços de aluguel?**"
      ]
    },
    {
      "cell_type": "code",
      "metadata": {
        "id": "ff-8gUahLk-C",
        "colab": {
          "base_uri": "https://localhost:8080/"
        },
        "outputId": "f17ac332-8cbe-48cd-eafb-f12a3abf91a0"
      },
      "source": [
        "# vendo a média da coluna `price`\n",
        "df['price'].mean()"
      ],
      "execution_count": 55,
      "outputs": [
        {
          "output_type": "execute_result",
          "data": {
            "text/plain": [
              "268.7804206309464"
            ]
          },
          "metadata": {},
          "execution_count": 55
        }
      ]
    },
    {
      "cell_type": "markdown",
      "metadata": {
        "id": "IXn2oIo5qx-w"
      },
      "source": [
        "### **Qual a correlação existente entre as variáveis?**"
      ]
    },
    {
      "cell_type": "code",
      "metadata": {
        "id": "x2ayzBajqxyd",
        "colab": {
          "base_uri": "https://localhost:8080/",
          "height": 238
        },
        "outputId": "38435b95-597c-4b2a-d5ea-1f7612f7b51b"
      },
      "source": [
        "# criando uma matriz de correlação\n",
        "corr = df[['price', 'minimum_nights', 'number_of_reviews', 'reviews_per_month',\n",
        "    'calculated_host_listings_count', 'availability_365']].corr()\n",
        "# mostrando a matriz de correlação\n",
        "display(corr)"
      ],
      "execution_count": 56,
      "outputs": [
        {
          "output_type": "display_data",
          "data": {
            "text/plain": [
              "                                   price  minimum_nights  number_of_reviews  \\\n",
              "price                           1.000000       -0.007411          -0.074642   \n",
              "minimum_nights                 -0.007411        1.000000          -0.014808   \n",
              "number_of_reviews              -0.074642       -0.014808           1.000000   \n",
              "reviews_per_month              -0.035310       -0.013826           0.314116   \n",
              "calculated_host_listings_count  0.127898       -0.025321          -0.155901   \n",
              "availability_365                0.092112        0.008312          -0.020956   \n",
              "\n",
              "                                reviews_per_month  \\\n",
              "price                                   -0.035310   \n",
              "minimum_nights                          -0.013826   \n",
              "number_of_reviews                        0.314116   \n",
              "reviews_per_month                        1.000000   \n",
              "calculated_host_listings_count          -0.052233   \n",
              "availability_365                        -0.007387   \n",
              "\n",
              "                                calculated_host_listings_count  \\\n",
              "price                                                 0.127898   \n",
              "minimum_nights                                       -0.025321   \n",
              "number_of_reviews                                    -0.155901   \n",
              "reviews_per_month                                    -0.052233   \n",
              "calculated_host_listings_count                        1.000000   \n",
              "availability_365                                      0.166828   \n",
              "\n",
              "                                availability_365  \n",
              "price                                   0.092112  \n",
              "minimum_nights                          0.008312  \n",
              "number_of_reviews                      -0.020956  \n",
              "reviews_per_month                      -0.007387  \n",
              "calculated_host_listings_count          0.166828  \n",
              "availability_365                        1.000000  "
            ],
            "text/html": [
              "\n",
              "  <div id=\"df-a5d97b75-3028-4302-b677-0cf5d4562e33\">\n",
              "    <div class=\"colab-df-container\">\n",
              "      <div>\n",
              "<style scoped>\n",
              "    .dataframe tbody tr th:only-of-type {\n",
              "        vertical-align: middle;\n",
              "    }\n",
              "\n",
              "    .dataframe tbody tr th {\n",
              "        vertical-align: top;\n",
              "    }\n",
              "\n",
              "    .dataframe thead th {\n",
              "        text-align: right;\n",
              "    }\n",
              "</style>\n",
              "<table border=\"1\" class=\"dataframe\">\n",
              "  <thead>\n",
              "    <tr style=\"text-align: right;\">\n",
              "      <th></th>\n",
              "      <th>price</th>\n",
              "      <th>minimum_nights</th>\n",
              "      <th>number_of_reviews</th>\n",
              "      <th>reviews_per_month</th>\n",
              "      <th>calculated_host_listings_count</th>\n",
              "      <th>availability_365</th>\n",
              "    </tr>\n",
              "  </thead>\n",
              "  <tbody>\n",
              "    <tr>\n",
              "      <th>price</th>\n",
              "      <td>1.000000</td>\n",
              "      <td>-0.007411</td>\n",
              "      <td>-0.074642</td>\n",
              "      <td>-0.035310</td>\n",
              "      <td>0.127898</td>\n",
              "      <td>0.092112</td>\n",
              "    </tr>\n",
              "    <tr>\n",
              "      <th>minimum_nights</th>\n",
              "      <td>-0.007411</td>\n",
              "      <td>1.000000</td>\n",
              "      <td>-0.014808</td>\n",
              "      <td>-0.013826</td>\n",
              "      <td>-0.025321</td>\n",
              "      <td>0.008312</td>\n",
              "    </tr>\n",
              "    <tr>\n",
              "      <th>number_of_reviews</th>\n",
              "      <td>-0.074642</td>\n",
              "      <td>-0.014808</td>\n",
              "      <td>1.000000</td>\n",
              "      <td>0.314116</td>\n",
              "      <td>-0.155901</td>\n",
              "      <td>-0.020956</td>\n",
              "    </tr>\n",
              "    <tr>\n",
              "      <th>reviews_per_month</th>\n",
              "      <td>-0.035310</td>\n",
              "      <td>-0.013826</td>\n",
              "      <td>0.314116</td>\n",
              "      <td>1.000000</td>\n",
              "      <td>-0.052233</td>\n",
              "      <td>-0.007387</td>\n",
              "    </tr>\n",
              "    <tr>\n",
              "      <th>calculated_host_listings_count</th>\n",
              "      <td>0.127898</td>\n",
              "      <td>-0.025321</td>\n",
              "      <td>-0.155901</td>\n",
              "      <td>-0.052233</td>\n",
              "      <td>1.000000</td>\n",
              "      <td>0.166828</td>\n",
              "    </tr>\n",
              "    <tr>\n",
              "      <th>availability_365</th>\n",
              "      <td>0.092112</td>\n",
              "      <td>0.008312</td>\n",
              "      <td>-0.020956</td>\n",
              "      <td>-0.007387</td>\n",
              "      <td>0.166828</td>\n",
              "      <td>1.000000</td>\n",
              "    </tr>\n",
              "  </tbody>\n",
              "</table>\n",
              "</div>\n",
              "      <button class=\"colab-df-convert\" onclick=\"convertToInteractive('df-a5d97b75-3028-4302-b677-0cf5d4562e33')\"\n",
              "              title=\"Convert this dataframe to an interactive table.\"\n",
              "              style=\"display:none;\">\n",
              "        \n",
              "  <svg xmlns=\"http://www.w3.org/2000/svg\" height=\"24px\"viewBox=\"0 0 24 24\"\n",
              "       width=\"24px\">\n",
              "    <path d=\"M0 0h24v24H0V0z\" fill=\"none\"/>\n",
              "    <path d=\"M18.56 5.44l.94 2.06.94-2.06 2.06-.94-2.06-.94-.94-2.06-.94 2.06-2.06.94zm-11 1L8.5 8.5l.94-2.06 2.06-.94-2.06-.94L8.5 2.5l-.94 2.06-2.06.94zm10 10l.94 2.06.94-2.06 2.06-.94-2.06-.94-.94-2.06-.94 2.06-2.06.94z\"/><path d=\"M17.41 7.96l-1.37-1.37c-.4-.4-.92-.59-1.43-.59-.52 0-1.04.2-1.43.59L10.3 9.45l-7.72 7.72c-.78.78-.78 2.05 0 2.83L4 21.41c.39.39.9.59 1.41.59.51 0 1.02-.2 1.41-.59l7.78-7.78 2.81-2.81c.8-.78.8-2.07 0-2.86zM5.41 20L4 18.59l7.72-7.72 1.47 1.35L5.41 20z\"/>\n",
              "  </svg>\n",
              "      </button>\n",
              "      \n",
              "  <style>\n",
              "    .colab-df-container {\n",
              "      display:flex;\n",
              "      flex-wrap:wrap;\n",
              "      gap: 12px;\n",
              "    }\n",
              "\n",
              "    .colab-df-convert {\n",
              "      background-color: #E8F0FE;\n",
              "      border: none;\n",
              "      border-radius: 50%;\n",
              "      cursor: pointer;\n",
              "      display: none;\n",
              "      fill: #1967D2;\n",
              "      height: 32px;\n",
              "      padding: 0 0 0 0;\n",
              "      width: 32px;\n",
              "    }\n",
              "\n",
              "    .colab-df-convert:hover {\n",
              "      background-color: #E2EBFA;\n",
              "      box-shadow: 0px 1px 2px rgba(60, 64, 67, 0.3), 0px 1px 3px 1px rgba(60, 64, 67, 0.15);\n",
              "      fill: #174EA6;\n",
              "    }\n",
              "\n",
              "    [theme=dark] .colab-df-convert {\n",
              "      background-color: #3B4455;\n",
              "      fill: #D2E3FC;\n",
              "    }\n",
              "\n",
              "    [theme=dark] .colab-df-convert:hover {\n",
              "      background-color: #434B5C;\n",
              "      box-shadow: 0px 1px 3px 1px rgba(0, 0, 0, 0.15);\n",
              "      filter: drop-shadow(0px 1px 2px rgba(0, 0, 0, 0.3));\n",
              "      fill: #FFFFFF;\n",
              "    }\n",
              "  </style>\n",
              "\n",
              "      <script>\n",
              "        const buttonEl =\n",
              "          document.querySelector('#df-a5d97b75-3028-4302-b677-0cf5d4562e33 button.colab-df-convert');\n",
              "        buttonEl.style.display =\n",
              "          google.colab.kernel.accessAllowed ? 'block' : 'none';\n",
              "\n",
              "        async function convertToInteractive(key) {\n",
              "          const element = document.querySelector('#df-a5d97b75-3028-4302-b677-0cf5d4562e33');\n",
              "          const dataTable =\n",
              "            await google.colab.kernel.invokeFunction('convertToInteractive',\n",
              "                                                     [key], {});\n",
              "          if (!dataTable) return;\n",
              "\n",
              "          const docLinkHtml = 'Like what you see? Visit the ' +\n",
              "            '<a target=\"_blank\" href=https://colab.research.google.com/notebooks/data_table.ipynb>data table notebook</a>'\n",
              "            + ' to learn more about interactive tables.';\n",
              "          element.innerHTML = '';\n",
              "          dataTable['output_type'] = 'display_data';\n",
              "          await google.colab.output.renderOutput(dataTable, element);\n",
              "          const docLink = document.createElement('div');\n",
              "          docLink.innerHTML = docLinkHtml;\n",
              "          element.appendChild(docLink);\n",
              "        }\n",
              "      </script>\n",
              "    </div>\n",
              "  </div>\n",
              "  "
            ]
          },
          "metadata": {}
        }
      ]
    },
    {
      "cell_type": "code",
      "metadata": {
        "id": "91UujDr6ueqE",
        "colab": {
          "base_uri": "https://localhost:8080/",
          "height": 486
        },
        "outputId": "bdf8659a-e64d-4d96-a29c-34640c45f24a"
      },
      "source": [
        "# plotando um heatmap a partir das correlações\n",
        "sns.heatmap(corr, cmap='RdBu', fmt='.2f', square=True, linecolor='white', annot=True);"
      ],
      "execution_count": 57,
      "outputs": [
        {
          "output_type": "display_data",
          "data": {
            "text/plain": [
              "<Figure size 432x288 with 2 Axes>"
            ],
            "image/png": "[encoded data removed]"
          },
          "metadata": {}
        }
      ]
    },
    {
      "cell_type": "markdown",
      "source": [
        "A efeito de análise/estudo não existem correlações nas variáveis testadas."
      ],
      "metadata": {
        "id": "9bgxWNQAblsv"
      }
    },
    {
      "cell_type": "markdown",
      "metadata": {
        "id": "7b6RMWpuHKN-"
      },
      "source": [
        "### **Qual o tipo de imóvel mais alugado no Airbnb?**"
      ]
    },
    {
      "cell_type": "code",
      "metadata": {
        "id": "ueLPNWvPHgfB",
        "colab": {
          "base_uri": "https://localhost:8080/"
        },
        "outputId": "76145ce5-875a-4b85-ba7b-1aa182cab5ef"
      },
      "source": [
        "# mostrando a quantidade de cada tipo de imóvel disponível\n",
        "df['room_type'].value_counts()"
      ],
      "execution_count": 58,
      "outputs": [
        {
          "output_type": "execute_result",
          "data": {
            "text/plain": [
              "Entire home/apt    6182\n",
              "Private room       1585\n",
              "Hotel room          194\n",
              "Shared room          27\n",
              "Name: room_type, dtype: int64"
            ]
          },
          "metadata": {},
          "execution_count": 58
        }
      ]
    },
    {
      "cell_type": "code",
      "metadata": {
        "id": "EvwoO-XAHhIm",
        "colab": {
          "base_uri": "https://localhost:8080/"
        },
        "outputId": "202a5059-3956-466e-e94d-2696bb68ebf4"
      },
      "source": [
        "# mostrando a porcentagem de cada tipo de imóvel disponível\n",
        "df['room_type'].value_counts() / df.shape[0]*100"
      ],
      "execution_count": 59,
      "outputs": [
        {
          "output_type": "execute_result",
          "data": {
            "text/plain": [
              "Entire home/apt    77.391087\n",
              "Private room       19.842263\n",
              "Hotel room          2.428643\n",
              "Shared room         0.338007\n",
              "Name: room_type, dtype: float64"
            ]
          },
          "metadata": {},
          "execution_count": 59
        }
      ]
    },
    {
      "cell_type": "markdown",
      "metadata": {
        "id": "MFa5NbnLJMcd"
      },
      "source": [
        "### **Qual a localidade mais cara do dataset?**\n",
        "\n"
      ]
    },
    {
      "cell_type": "code",
      "metadata": {
        "id": "MD_xa143JZpi",
        "colab": {
          "base_uri": "https://localhost:8080/"
        },
        "outputId": "8a4286a7-856a-48da-dbe3-e31122853e71"
      },
      "source": [
        "# verificando os preços por bairros, na média\n",
        "df.groupby(['neighbourhood'])['price'].mean().sort_values(ascending=False)[:15]"
      ],
      "execution_count": 60,
      "outputs": [
        {
          "output_type": "execute_result",
          "data": {
            "text/plain": [
              "neighbourhood\n",
              "Isola Cason Grassabo'          21000.000000\n",
              "Tronchetto                      2569.500000\n",
              "Zona Commerciale via Torino     1972.294118\n",
              "Piave 1860                       989.763889\n",
              "Capitello                        875.000000\n",
              "Ferrarese                        450.000000\n",
              "Favaro                           351.627907\n",
              "Vignole                          330.000000\n",
              "San Marco                        290.619348\n",
              "Alberoni                         250.169811\n",
              "Torcello                         250.000000\n",
              "Lido                             248.081325\n",
              "Santa Croce                      239.703704\n",
              "San Polo                         236.300687\n",
              "Dorsoduro                        234.701571\n",
              "Name: price, dtype: float64"
            ]
          },
          "metadata": {},
          "execution_count": 60
        }
      ]
    },
    {
      "cell_type": "markdown",
      "source": [
        "Apesar de não ter conhecimento com a localidade de Veneza na Italia achei muito estranho o fato da média de preço ser 268, mas exatamente em um local o valor por noite ser 21000, possa ter sido algum erro de digitação, não podemos dizer ao certo o motivo desse valor, mas não podemos considera-lo como algo verídico."
      ],
      "metadata": {
        "id": "kmn-PWHJdmOE"
      }
    },
    {
      "cell_type": "code",
      "source": [
        "df['neighbourhood'].value_counts().sort_values()[:20]"
      ],
      "metadata": {
        "colab": {
          "base_uri": "https://localhost:8080/"
        },
        "id": "cx0bgGsjcgGR",
        "outputId": "4712d01c-4682-4253-ac04-2d6a6ef75504"
      },
      "execution_count": 61,
      "outputs": [
        {
          "output_type": "execute_result",
          "data": {
            "text/plain": [
              "Vignole                             1\n",
              "San Pietro in Volta                 1\n",
              "Favaro Col San Martino              1\n",
              "Isola San Michele                   1\n",
              "Marocco Zelarino                    1\n",
              "Torcello                            1\n",
              "Mazzorbo                            1\n",
              "Molino Ronchin                      1\n",
              "Ca' Brentelle                       1\n",
              "Isola di Tessera                    1\n",
              "Ca' Solaro                          1\n",
              "Giustizia                           1\n",
              "Centro Commerciale Panorama         1\n",
              "Maguolo                             1\n",
              "Isola Cason Grassabo'               1\n",
              "Isola San Giorgio                   1\n",
              "Asseggiano                          2\n",
              "Isola Cason vecchio di Grassabo'    2\n",
              "Capitello                           2\n",
              "Campalto CEP                        2\n",
              "Name: neighbourhood, dtype: int64"
            ]
          },
          "metadata": {},
          "execution_count": 61
        }
      ]
    },
    {
      "cell_type": "code",
      "metadata": {
        "id": "UxVJqJ_3W59I",
        "colab": {
          "base_uri": "https://localhost:8080/",
          "height": 537
        },
        "outputId": "f30d2050-c8ac-41d9-9fbe-d99ca97d5445"
      },
      "source": [
        "# plotando os imóveis pela latitude-longitude\n",
        "df_clean.plot(kind=\"scatter\", x='longitude', y='latitude', alpha=0.4, c=df_clean['price'], s=8,\n",
        "              cmap=plt.get_cmap('jet'), figsize=(12,8));"
      ],
      "execution_count": 62,
      "outputs": [
        {
          "output_type": "display_data",
          "data": {
            "text/plain": [
              "<Figure size 864x576 with 2 Axes>"
            ],
            "image/png": "[encoded data removed]"
          },
          "metadata": {}
        }
      ]
    },
    {
      "cell_type": "markdown",
      "metadata": {
        "id": "vTneAMRUYvr1"
      },
      "source": [
        "### **Qual é a média do mínimo de noites para aluguel (minimum_nights)?**"
      ]
    },
    {
      "cell_type": "code",
      "metadata": {
        "id": "_VzNhrEgY82N",
        "colab": {
          "base_uri": "https://localhost:8080/"
        },
        "outputId": "d2791616-601f-4582-e9b7-74742516217c"
      },
      "source": [
        "# ver a média da coluna `minimum_nights``\n",
        "df['minimum_nights'].mean()"
      ],
      "execution_count": 63,
      "outputs": [
        {
          "output_type": "execute_result",
          "data": {
            "text/plain": [
              "2.666374561842764"
            ]
          },
          "metadata": {},
          "execution_count": 63
        }
      ]
    },
    {
      "cell_type": "markdown",
      "metadata": {
        "id": "GkvAg623RjoR"
      },
      "source": [
        "## Conclusões\n"
      ]
    },
    {
      "cell_type": "markdown",
      "metadata": {
        "id": "rbZ3Hsy9Ypw8"
      },
      "source": [
        "Apesar de ter sido uma análise rápida sobre as variáveis alvo `price`, `minimun_nights`, conseguimos desenvolver um projeto desde a obtenção dos dados a identificar e tratar os dados, utilizamos alguns conceitos de visualização, exploração, limpeza, como por exemplo: *Tipos das Variáveis, Alterando tipo da variável `Data`, verificando e tratando Outliers, Dados Faltantes*, utilizamos alguns gráficos para verificar os dados como: *boxplot, scatter, correlações*.\n",
        "\n",
        "Há uma grande concentração de valores mais altos no centro de Veneza por conta das pontes que cruzam as regiões da cidade e os passeios de gôndolas, tradicionais especialmente para os casais apaixonados, encantam as pessoas e só fazem o desejo de viajar para Veneza aumentar, o que faz a atmosfera da cidade ser mágica.\n",
        "\n",
        "<img src=\"https://raw.githubusercontent.com/raffaelhfarias/Dados_Airbnb/main/imgens/ilhas-de-veneza.png\">"
      ]
    }
  ]
}